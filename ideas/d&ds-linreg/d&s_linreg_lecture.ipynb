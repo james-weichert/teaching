{
  "nbformat": 4,
  "nbformat_minor": 0,
  "metadata": {
    "colab": {
      "provenance": [],
      "authorship_tag": "ABX9TyOObzK3RMDCAWQRVzqQcZxM",
      "include_colab_link": true
    },
    "kernelspec": {
      "name": "python3",
      "display_name": "Python 3"
    },
    "language_info": {
      "name": "python"
    }
  },
  "cells": [
    {
      "cell_type": "markdown",
      "metadata": {
        "id": "view-in-github",
        "colab_type": "text"
      },
      "source": [
        "<a href=\"https://colab.research.google.com/github/james-weichert/teaching/blob/main/ideas/d%26ds-linreg/d%26s_linreg_lecture.ipynb\" target=\"_parent\"><img src=\"https://colab.research.google.com/assets/colab-badge.svg\" alt=\"Open In Colab\"/></a>"
      ]
    },
    {
      "cell_type": "markdown",
      "source": [
        "# **Data and Society:** An Introduction to Linear Regression Using For Loops\n",
        "\n",
        "Code Notebook\n",
        "\n",
        "_James Weichert 2025_"
      ],
      "metadata": {
        "id": "-z8-7cBqinMR"
      }
    },
    {
      "cell_type": "code",
      "execution_count": null,
      "metadata": {
        "id": "zTUI5KB-fIKS"
      },
      "outputs": [],
      "source": []
    }
  ]
}
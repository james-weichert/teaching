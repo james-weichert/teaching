{
  "nbformat": 4,
  "nbformat_minor": 0,
  "metadata": {
    "colab": {
      "provenance": [],
      "collapsed_sections": [
        "L1eFvGzVt6aB",
        "i-4JZxqZuwSN"
      ],
      "authorship_tag": "ABX9TyPNcBseoUnNA60LnKl2SKl6",
      "include_colab_link": true
    },
    "kernelspec": {
      "name": "python3",
      "display_name": "Python 3"
    },
    "language_info": {
      "name": "python"
    },
    "widgets": {
      "application/vnd.jupyter.widget-state+json": {
        "f3493749bdcf4703bd68c3a702cd6f8c": {
          "model_module": "@jupyter-widgets/controls",
          "model_name": "VBoxModel",
          "model_module_version": "1.5.0",
          "state": {
            "_dom_classes": [
              "widget-interact"
            ],
            "_model_module": "@jupyter-widgets/controls",
            "_model_module_version": "1.5.0",
            "_model_name": "VBoxModel",
            "_view_count": null,
            "_view_module": "@jupyter-widgets/controls",
            "_view_module_version": "1.5.0",
            "_view_name": "VBoxView",
            "box_style": "",
            "children": [
              "IPY_MODEL_ece42f4fdec1423fa38aea73d8a44940",
              "IPY_MODEL_0e9a54054930453f95b9633f35a72105",
              "IPY_MODEL_b5688bcb24c745698d1bf7db583880f7"
            ],
            "layout": "IPY_MODEL_8484dc3af1db4d9bbedd393b1e7d36a6"
          }
        },
        "ece42f4fdec1423fa38aea73d8a44940": {
          "model_module": "@jupyter-widgets/controls",
          "model_name": "IntSliderModel",
          "model_module_version": "1.5.0",
          "state": {
            "_dom_classes": [],
            "_model_module": "@jupyter-widgets/controls",
            "_model_module_version": "1.5.0",
            "_model_name": "IntSliderModel",
            "_view_count": null,
            "_view_module": "@jupyter-widgets/controls",
            "_view_module_version": "1.5.0",
            "_view_name": "IntSliderView",
            "continuous_update": true,
            "description": "Price ($)",
            "description_tooltip": null,
            "disabled": false,
            "layout": "IPY_MODEL_926d701ae0934119b8d77be331ca7cbd",
            "max": 30,
            "min": 10,
            "orientation": "horizontal",
            "readout": true,
            "readout_format": "d",
            "step": 1,
            "style": "IPY_MODEL_d39dae70a750449e9aa06dfaab0d781e",
            "value": 15
          }
        },
        "0e9a54054930453f95b9633f35a72105": {
          "model_module": "@jupyter-widgets/controls",
          "model_name": "FloatSliderModel",
          "model_module_version": "1.5.0",
          "state": {
            "_dom_classes": [],
            "_model_module": "@jupyter-widgets/controls",
            "_model_module_version": "1.5.0",
            "_model_name": "FloatSliderModel",
            "_view_count": null,
            "_view_module": "@jupyter-widgets/controls",
            "_view_module_version": "1.5.0",
            "_view_name": "FloatSliderView",
            "continuous_update": true,
            "description": "Rating",
            "description_tooltip": null,
            "disabled": false,
            "layout": "IPY_MODEL_5eeac22eec8d49138cd904a80e74a68c",
            "max": 5,
            "min": 3.8,
            "orientation": "horizontal",
            "readout": true,
            "readout_format": ".2f",
            "step": 0.1,
            "style": "IPY_MODEL_e97ea282e15e49d5a6e943849ccd3cd0",
            "value": 4.2
          }
        },
        "b5688bcb24c745698d1bf7db583880f7": {
          "model_module": "@jupyter-widgets/output",
          "model_name": "OutputModel",
          "model_module_version": "1.0.0",
          "state": {
            "_dom_classes": [],
            "_model_module": "@jupyter-widgets/output",
            "_model_module_version": "1.0.0",
            "_model_name": "OutputModel",
            "_view_count": null,
            "_view_module": "@jupyter-widgets/output",
            "_view_module_version": "1.0.0",
            "_view_name": "OutputView",
            "layout": "IPY_MODEL_9b66284314534f43b4945535027f6251",
            "msg_id": "",
            "outputs": []
          }
        },
        "8484dc3af1db4d9bbedd393b1e7d36a6": {
          "model_module": "@jupyter-widgets/base",
          "model_name": "LayoutModel",
          "model_module_version": "1.2.0",
          "state": {
            "_model_module": "@jupyter-widgets/base",
            "_model_module_version": "1.2.0",
            "_model_name": "LayoutModel",
            "_view_count": null,
            "_view_module": "@jupyter-widgets/base",
            "_view_module_version": "1.2.0",
            "_view_name": "LayoutView",
            "align_content": null,
            "align_items": null,
            "align_self": null,
            "border": null,
            "bottom": null,
            "display": null,
            "flex": null,
            "flex_flow": null,
            "grid_area": null,
            "grid_auto_columns": null,
            "grid_auto_flow": null,
            "grid_auto_rows": null,
            "grid_column": null,
            "grid_gap": null,
            "grid_row": null,
            "grid_template_areas": null,
            "grid_template_columns": null,
            "grid_template_rows": null,
            "height": null,
            "justify_content": null,
            "justify_items": null,
            "left": null,
            "margin": null,
            "max_height": null,
            "max_width": null,
            "min_height": null,
            "min_width": null,
            "object_fit": null,
            "object_position": null,
            "order": null,
            "overflow": null,
            "overflow_x": null,
            "overflow_y": null,
            "padding": null,
            "right": null,
            "top": null,
            "visibility": null,
            "width": null
          }
        },
        "926d701ae0934119b8d77be331ca7cbd": {
          "model_module": "@jupyter-widgets/base",
          "model_name": "LayoutModel",
          "model_module_version": "1.2.0",
          "state": {
            "_model_module": "@jupyter-widgets/base",
            "_model_module_version": "1.2.0",
            "_model_name": "LayoutModel",
            "_view_count": null,
            "_view_module": "@jupyter-widgets/base",
            "_view_module_version": "1.2.0",
            "_view_name": "LayoutView",
            "align_content": null,
            "align_items": null,
            "align_self": null,
            "border": null,
            "bottom": null,
            "display": null,
            "flex": null,
            "flex_flow": null,
            "grid_area": null,
            "grid_auto_columns": null,
            "grid_auto_flow": null,
            "grid_auto_rows": null,
            "grid_column": null,
            "grid_gap": null,
            "grid_row": null,
            "grid_template_areas": null,
            "grid_template_columns": null,
            "grid_template_rows": null,
            "height": null,
            "justify_content": null,
            "justify_items": null,
            "left": null,
            "margin": null,
            "max_height": null,
            "max_width": null,
            "min_height": null,
            "min_width": null,
            "object_fit": null,
            "object_position": null,
            "order": null,
            "overflow": null,
            "overflow_x": null,
            "overflow_y": null,
            "padding": null,
            "right": null,
            "top": null,
            "visibility": null,
            "width": null
          }
        },
        "d39dae70a750449e9aa06dfaab0d781e": {
          "model_module": "@jupyter-widgets/controls",
          "model_name": "SliderStyleModel",
          "model_module_version": "1.5.0",
          "state": {
            "_model_module": "@jupyter-widgets/controls",
            "_model_module_version": "1.5.0",
            "_model_name": "SliderStyleModel",
            "_view_count": null,
            "_view_module": "@jupyter-widgets/base",
            "_view_module_version": "1.2.0",
            "_view_name": "StyleView",
            "description_width": "",
            "handle_color": null
          }
        },
        "5eeac22eec8d49138cd904a80e74a68c": {
          "model_module": "@jupyter-widgets/base",
          "model_name": "LayoutModel",
          "model_module_version": "1.2.0",
          "state": {
            "_model_module": "@jupyter-widgets/base",
            "_model_module_version": "1.2.0",
            "_model_name": "LayoutModel",
            "_view_count": null,
            "_view_module": "@jupyter-widgets/base",
            "_view_module_version": "1.2.0",
            "_view_name": "LayoutView",
            "align_content": null,
            "align_items": null,
            "align_self": null,
            "border": null,
            "bottom": null,
            "display": null,
            "flex": null,
            "flex_flow": null,
            "grid_area": null,
            "grid_auto_columns": null,
            "grid_auto_flow": null,
            "grid_auto_rows": null,
            "grid_column": null,
            "grid_gap": null,
            "grid_row": null,
            "grid_template_areas": null,
            "grid_template_columns": null,
            "grid_template_rows": null,
            "height": null,
            "justify_content": null,
            "justify_items": null,
            "left": null,
            "margin": null,
            "max_height": null,
            "max_width": null,
            "min_height": null,
            "min_width": null,
            "object_fit": null,
            "object_position": null,
            "order": null,
            "overflow": null,
            "overflow_x": null,
            "overflow_y": null,
            "padding": null,
            "right": null,
            "top": null,
            "visibility": null,
            "width": null
          }
        },
        "e97ea282e15e49d5a6e943849ccd3cd0": {
          "model_module": "@jupyter-widgets/controls",
          "model_name": "SliderStyleModel",
          "model_module_version": "1.5.0",
          "state": {
            "_model_module": "@jupyter-widgets/controls",
            "_model_module_version": "1.5.0",
            "_model_name": "SliderStyleModel",
            "_view_count": null,
            "_view_module": "@jupyter-widgets/base",
            "_view_module_version": "1.2.0",
            "_view_name": "StyleView",
            "description_width": "",
            "handle_color": null
          }
        },
        "9b66284314534f43b4945535027f6251": {
          "model_module": "@jupyter-widgets/base",
          "model_name": "LayoutModel",
          "model_module_version": "1.2.0",
          "state": {
            "_model_module": "@jupyter-widgets/base",
            "_model_module_version": "1.2.0",
            "_model_name": "LayoutModel",
            "_view_count": null,
            "_view_module": "@jupyter-widgets/base",
            "_view_module_version": "1.2.0",
            "_view_name": "LayoutView",
            "align_content": null,
            "align_items": null,
            "align_self": null,
            "border": null,
            "bottom": null,
            "display": null,
            "flex": null,
            "flex_flow": null,
            "grid_area": null,
            "grid_auto_columns": null,
            "grid_auto_flow": null,
            "grid_auto_rows": null,
            "grid_column": null,
            "grid_gap": null,
            "grid_row": null,
            "grid_template_areas": null,
            "grid_template_columns": null,
            "grid_template_rows": null,
            "height": null,
            "justify_content": null,
            "justify_items": null,
            "left": null,
            "margin": null,
            "max_height": null,
            "max_width": null,
            "min_height": null,
            "min_width": null,
            "object_fit": null,
            "object_position": null,
            "order": null,
            "overflow": null,
            "overflow_x": null,
            "overflow_y": null,
            "padding": null,
            "right": null,
            "top": null,
            "visibility": null,
            "width": null
          }
        }
      }
    }
  },
  "cells": [
    {
      "cell_type": "markdown",
      "metadata": {
        "id": "view-in-github",
        "colab_type": "text"
      },
      "source": [
        "<a href=\"https://colab.research.google.com/github/james-weichert/teaching/blob/main/teaching-demos/unc/unc_teaching_demo.ipynb\" target=\"_parent\"><img src=\"https://colab.research.google.com/assets/colab-badge.svg\" alt=\"Open In Colab\"/></a>"
      ]
    },
    {
      "cell_type": "markdown",
      "source": [
        "# **Iteration Applications: An Introduction to Machine Learning Using For Loops**\n",
        "### Teaching Demo\n",
        "### _University of North Carolina Department of Computer Science_\n",
        "James Weichert | March 2025"
      ],
      "metadata": {
        "id": "h0p7zXDiqK7f"
      }
    },
    {
      "cell_type": "markdown",
      "source": [
        "\n",
        "\n",
        "---\n",
        "\n"
      ],
      "metadata": {
        "id": "nVdE4OuZuROg"
      }
    },
    {
      "cell_type": "markdown",
      "source": [
        "**A Note On Using This Notebook**\n",
        "\n",
        "<blockquote>\n",
        "\n",
        "This code demo is designed to fit into a CS1-level introductory programming course taught in the Python programming language. While I assume you have some basic familiarity with Python, you may not be familiar with all of the Python libraries or functions used in this notebook — and that's totally OK!\n",
        "\n",
        "In order to keep this demo easy to use, a lot of the complex code is already written. All you have to do is run these code cells (by pressing the play button next to the cell or pressing `shift` + `return` on your keyboard with the cell selected). Additionally, here are a few tips that will be helpful:\n",
        "\n",
        "* In Python you can iterate over multiple lists (of the same length) at the same time! Use the syntax `for x, y in zip(x_list, y_list):` in your for loop to make your code simpler!\n",
        "\n",
        "* This notebook is organized into big sections with smaller subsections. To keep things organized and help with navigating the notebook, I recommend doing the following at the very beginning of working with the notebook:\n",
        "  \n",
        "  * Press `command`/`control` + `shift` + `A` to highlight all cells\n",
        "  * With the cells highlighted, press `command`/`control` + `]` to collapse all cells into their folders. As you work through the notebook, you can expand each section one at a time!\n",
        "</blockquote>\n",
        "\n",
        "Now you're ready to get started!"
      ],
      "metadata": {
        "id": "rEagb1RGuLQ7"
      }
    },
    {
      "cell_type": "code",
      "execution_count": 1,
      "metadata": {
        "id": "JjMPqhlpHn9S"
      },
      "outputs": [],
      "source": [
        "# Just run this cell to import the necessary Python libraries for this demo\n",
        "\n",
        "import numpy as np\n",
        "import pandas as pd\n",
        "import matplotlib.pyplot"
      ]
    },
    {
      "cell_type": "markdown",
      "source": [
        "\n",
        "\n",
        "---\n",
        "\n"
      ],
      "metadata": {
        "id": "tsfm6X32uWtm"
      }
    },
    {
      "cell_type": "markdown",
      "source": [
        "## **1. Iteration Refresher**"
      ],
      "metadata": {
        "id": "wQNxL7xVsPWh"
      }
    },
    {
      "cell_type": "markdown",
      "source": [
        "**Iteration** involves performing the same task over and over again, usually _for each_ item in a collection of items (like a list or array).\n",
        "\n",
        "**For Loops** are a powerful tool to loop a specified number of times. In Python, for loops use the following syntax:\n",
        "\n",
        "\n",
        "```\n",
        "# This is a for loop:\n",
        "\n",
        "for x in collection:\n",
        "  # do something using x\n",
        "```\n",
        "\n",
        "\n",
        "\n",
        "One way to use for loops is as a counter or index:"
      ],
      "metadata": {
        "id": "zKWiEfUBo75F"
      }
    },
    {
      "cell_type": "code",
      "source": [
        "colors = ['red', 'orange', 'green', 'blue', 'violet']\n",
        "\n",
        "for i in range(5):\n",
        "  print(i)\n",
        "  print(colors[i])"
      ],
      "metadata": {
        "colab": {
          "base_uri": "https://localhost:8080/"
        },
        "id": "QX8cNiRopz3M",
        "outputId": "30a09c71-957a-4046-935d-f98cd341f13b"
      },
      "execution_count": 2,
      "outputs": [
        {
          "output_type": "stream",
          "name": "stdout",
          "text": [
            "0\n",
            "red\n",
            "1\n",
            "orange\n",
            "2\n",
            "green\n",
            "3\n",
            "blue\n",
            "4\n",
            "violet\n"
          ]
        }
      ]
    },
    {
      "cell_type": "markdown",
      "source": [
        "This is very similar to for loops in other programming languages like Java, where you use an iterator variable (like `i`) as an index to access items in a list or array (e.g. `colors[i]`).\n",
        "\n",
        "**That's great...** but for loops in Python are even _more_ useful! Perhaps a better name for a Python for loop is a **for each loop**, since the loop can perform the same task _for each_ element in a list."
      ],
      "metadata": {
        "id": "IOSo3u-oqTzn"
      }
    },
    {
      "cell_type": "code",
      "source": [
        "for color in colors:\n",
        "  print(color)"
      ],
      "metadata": {
        "colab": {
          "base_uri": "https://localhost:8080/"
        },
        "id": "StcxCQibreQ0",
        "outputId": "879f279f-9bee-4e83-e76e-787a7dcfd670"
      },
      "execution_count": 3,
      "outputs": [
        {
          "output_type": "stream",
          "name": "stdout",
          "text": [
            "red\n",
            "orange\n",
            "green\n",
            "blue\n",
            "violet\n"
          ]
        }
      ]
    },
    {
      "cell_type": "markdown",
      "source": [
        "Also note that `range(5)` is a collection itself..."
      ],
      "metadata": {
        "id": "Q9hx_ZQBrhW9"
      }
    },
    {
      "cell_type": "code",
      "source": [
        "list(range(5))"
      ],
      "metadata": {
        "colab": {
          "base_uri": "https://localhost:8080/"
        },
        "id": "xdcIlmBLqQ5P",
        "outputId": "e34e6d16-7a84-4a6d-a878-c1c7e143612c"
      },
      "execution_count": 4,
      "outputs": [
        {
          "output_type": "execute_result",
          "data": {
            "text/plain": [
              "[0, 1, 2, 3, 4]"
            ]
          },
          "metadata": {},
          "execution_count": 4
        }
      ]
    },
    {
      "cell_type": "markdown",
      "source": [
        "...so there is no difference in the mechanics of\n",
        "\n",
        "\n",
        "\n",
        "```\n",
        "for i in range(5):\n",
        "```\n",
        "and\n",
        "\n",
        "\n",
        "```\n",
        "for color in colors:\n",
        "```\n",
        "\n",
        "\n"
      ],
      "metadata": {
        "id": "s0T9aKT9rmGz"
      }
    },
    {
      "cell_type": "markdown",
      "source": [
        "_Below are two more for loop example exercises to try out._"
      ],
      "metadata": {
        "id": "3cgJzLe36DkY"
      }
    },
    {
      "cell_type": "markdown",
      "source": [
        "### Ex. 1: Dog Years"
      ],
      "metadata": {
        "id": "6SsufRkXwenj"
      }
    },
    {
      "cell_type": "markdown",
      "source": [
        "A popular convention to find the 'true' age of a dog in 'human years' is to multiply the dog's age by 7.\n",
        "\n",
        "However, a 2019 genetic study of Labrador retrievers by [Wang et al.](https://www.biorxiv.org/content/10.1101/829192v1?ct=) cited by the [American Kennel Club](https://www.akc.org/expert-advice/health/how-to-calculate-dog-years-to-human-years/) finds that a more accurate formula is:\n",
        "\n",
        "$$\\text{human_age} = 16 \\cdot \\ln (\\text{dog_age}) + 31$$\n",
        "\n",
        "Using the function `human_age`, defined below, we can find the human age equivalent for dogs!"
      ],
      "metadata": {
        "id": "B5-IgjX-xhpD"
      }
    },
    {
      "cell_type": "code",
      "source": [
        "def human_age(dog_age):\n",
        "  \"\"\"Takes a dog's age in years and returns the equivalent human age\"\"\"\n",
        "  return float(16 * np.log(dog_age) + 31)"
      ],
      "metadata": {
        "id": "1Z0NRbq6wtrC"
      },
      "execution_count": 10,
      "outputs": []
    },
    {
      "cell_type": "markdown",
      "source": [
        "For example, James' dog Lego is 13 years old..."
      ],
      "metadata": {
        "id": "Oc6bofjVzMyQ"
      }
    },
    {
      "cell_type": "code",
      "source": [
        "human_age(13)"
      ],
      "metadata": {
        "colab": {
          "base_uri": "https://localhost:8080/"
        },
        "id": "zDrBdBBozPxo",
        "outputId": "54e53027-7f67-4190-8bc0-0c732039ab0c"
      },
      "execution_count": 11,
      "outputs": [
        {
          "output_type": "execute_result",
          "data": {
            "text/plain": [
              "72.03918971938458"
            ]
          },
          "metadata": {},
          "execution_count": 11
        }
      ]
    },
    {
      "cell_type": "markdown",
      "source": [
        "...so he is 72 years old in human years!"
      ],
      "metadata": {
        "id": "IK-4h2oZzSON"
      }
    },
    {
      "cell_type": "markdown",
      "source": [
        "**Ex. 1** Now lets find the human ages of a few dogs. For each dog age in the `dog_ages` list, apply the `human_age` function to find its human age (and print it).\n",
        "\n",
        "_Hint: Use a for loop!_"
      ],
      "metadata": {
        "id": "5URsPC7KzhBy"
      }
    },
    {
      "cell_type": "code",
      "source": [
        "dog_ages = [4, 11, 9, 7, 2]"
      ],
      "metadata": {
        "id": "4TdDbxluwiVX"
      },
      "execution_count": 12,
      "outputs": []
    },
    {
      "cell_type": "code",
      "source": [
        "# ex. 1\n",
        "\n",
        "# write your code here"
      ],
      "metadata": {
        "id": "ha5UAwtdw_3Z"
      },
      "execution_count": 13,
      "outputs": []
    },
    {
      "cell_type": "markdown",
      "source": [
        "### Ex. 2: Birthday Reminder"
      ],
      "metadata": {
        "id": "L1eFvGzVt6aB"
      }
    },
    {
      "cell_type": "markdown",
      "source": [
        "**Ex. 2** James is bad at remembering his friends' birthdays. To help him, write a function `birth_month_reminder` to remind James of which of his friends have a birthday this month.\n",
        "\n",
        "The function should take in two lists—`friends` and `birth_months`—and a `month` (a string, e.g. `\"October\"`). Each element in `friends` and `birth_months` corresponds to the name and birth month of one of James' friends, respectively. The `birth_month_reminder` function should print out the _names_ of each friend in the table with a birthday in that month."
      ],
      "metadata": {
        "id": "YWFsXWR9z5sy"
      }
    },
    {
      "cell_type": "code",
      "source": [
        "friends = ['Pablo', 'Rishi', 'Shawn', 'Eunice', 'Sophia', 'Prasann', 'Will', 'Emilia', 'Rebecca', 'Sunny']"
      ],
      "metadata": {
        "id": "HofGqDjX1Ebd"
      },
      "execution_count": 15,
      "outputs": []
    },
    {
      "cell_type": "code",
      "source": [
        "birth_months = ['October', 'February', 'June', 'March', 'December', 'January', 'March', 'November', 'August', 'April']"
      ],
      "metadata": {
        "id": "EJC0YQ8d1HG3"
      },
      "execution_count": 21,
      "outputs": []
    },
    {
      "cell_type": "markdown",
      "source": [
        "***Hint:*** The `zip()` function allows you to iterate over multiple lists at the same time, like in the example below!"
      ],
      "metadata": {
        "id": "JNHBwfq32Bhc"
      }
    },
    {
      "cell_type": "code",
      "source": [
        "depts = ['COMP', 'MATH', 'COMP', 'AMST']\n",
        "courses = [50, 231, 110, 101]\n",
        "\n",
        "for d, c in zip(depts, courses):\n",
        "  print(d, c)"
      ],
      "metadata": {
        "colab": {
          "base_uri": "https://localhost:8080/"
        },
        "id": "AXmOvJdR2BQ9",
        "outputId": "067bf268-e8af-4eaf-a880-42ad6ff6ec0b"
      },
      "execution_count": 18,
      "outputs": [
        {
          "output_type": "stream",
          "name": "stdout",
          "text": [
            "COMP 50\n",
            "MATH 231\n",
            "COMP 110\n",
            "AMST 101\n"
          ]
        }
      ]
    },
    {
      "cell_type": "markdown",
      "source": [
        "Now, try implementing the `birth_month_reminder` function:"
      ],
      "metadata": {
        "id": "PtiJL3PO3CFW"
      }
    },
    {
      "cell_type": "code",
      "source": [
        "def birth_month_reminder(friends, birth_months, month):\n",
        "  \"\"\"\n",
        "  Given the table `birthdays` containing a collection of James' friends names and birth months,\n",
        "  print the names of the friends who have birthdays in the specified `month`\n",
        "  \"\"\"\n",
        "\n",
        "  # write your function here"
      ],
      "metadata": {
        "id": "qopKf9CH0NA5"
      },
      "execution_count": 19,
      "outputs": []
    },
    {
      "cell_type": "markdown",
      "source": [
        "Test your implementation by running the next cell."
      ],
      "metadata": {
        "id": "f6FajYIW3eBe"
      }
    },
    {
      "cell_type": "code",
      "source": [
        "birth_month_reminder(friends, birth_months, \"March\")"
      ],
      "metadata": {
        "id": "q47bFTus3aki"
      },
      "execution_count": null,
      "outputs": []
    },
    {
      "cell_type": "markdown",
      "source": [
        "## **2. Chapel Hill Restaurant Recommender &trade;**"
      ],
      "metadata": {
        "id": "YqWvZtMgsGjQ"
      }
    },
    {
      "cell_type": "markdown",
      "source": [
        "James is a **big** foodie and he loves trying local restaurants when he visits a new city. For lunch today, James wants to go a **restaurant somewhere along Franklin St.**\n",
        "\n",
        "The table `franklin_restaurants` has 20+ nearby restaurants, their average price, and average Google Maps rating."
      ],
      "metadata": {
        "id": "G3qQTQvMk-Cp"
      }
    },
    {
      "cell_type": "code",
      "source": [
        "franklin_restaurants = pd.read_csv('https://github.com/james-weichert/teaching/blob/main/teaching-demos/unc/franklin_restaurants.csv?raw=true')\n",
        "franklin_restaurants.head()"
      ],
      "metadata": {
        "colab": {
          "base_uri": "https://localhost:8080/",
          "height": 206
        },
        "id": "CM9JpYzIOKBp",
        "outputId": "31ebeeb3-1aa7-450f-ab17-54bda95f9eca"
      },
      "execution_count": 5,
      "outputs": [
        {
          "output_type": "execute_result",
          "data": {
            "text/plain": [
              "  Neighborhood           Restaurant  Price ($)  Rating (out of 5)\n",
              "0   E Franklin  Time-Out Restaurant         13                4.1\n",
              "1   E Franklin    Hibachi & Company         18                4.3\n",
              "2   E Franklin                Wheat         20                4.7\n",
              "3   E Franklin       Cosmic Cantina         17                4.4\n",
              "4   E Franklin      Top of the Hill         25                4.4"
            ],
            "text/html": [
              "\n",
              "  <div id=\"df-3c06bb5c-79eb-4f78-b357-a83912dfce1a\" class=\"colab-df-container\">\n",
              "    <div>\n",
              "<style scoped>\n",
              "    .dataframe tbody tr th:only-of-type {\n",
              "        vertical-align: middle;\n",
              "    }\n",
              "\n",
              "    .dataframe tbody tr th {\n",
              "        vertical-align: top;\n",
              "    }\n",
              "\n",
              "    .dataframe thead th {\n",
              "        text-align: right;\n",
              "    }\n",
              "</style>\n",
              "<table border=\"1\" class=\"dataframe\">\n",
              "  <thead>\n",
              "    <tr style=\"text-align: right;\">\n",
              "      <th></th>\n",
              "      <th>Neighborhood</th>\n",
              "      <th>Restaurant</th>\n",
              "      <th>Price ($)</th>\n",
              "      <th>Rating (out of 5)</th>\n",
              "    </tr>\n",
              "  </thead>\n",
              "  <tbody>\n",
              "    <tr>\n",
              "      <th>0</th>\n",
              "      <td>E Franklin</td>\n",
              "      <td>Time-Out Restaurant</td>\n",
              "      <td>13</td>\n",
              "      <td>4.1</td>\n",
              "    </tr>\n",
              "    <tr>\n",
              "      <th>1</th>\n",
              "      <td>E Franklin</td>\n",
              "      <td>Hibachi &amp; Company</td>\n",
              "      <td>18</td>\n",
              "      <td>4.3</td>\n",
              "    </tr>\n",
              "    <tr>\n",
              "      <th>2</th>\n",
              "      <td>E Franklin</td>\n",
              "      <td>Wheat</td>\n",
              "      <td>20</td>\n",
              "      <td>4.7</td>\n",
              "    </tr>\n",
              "    <tr>\n",
              "      <th>3</th>\n",
              "      <td>E Franklin</td>\n",
              "      <td>Cosmic Cantina</td>\n",
              "      <td>17</td>\n",
              "      <td>4.4</td>\n",
              "    </tr>\n",
              "    <tr>\n",
              "      <th>4</th>\n",
              "      <td>E Franklin</td>\n",
              "      <td>Top of the Hill</td>\n",
              "      <td>25</td>\n",
              "      <td>4.4</td>\n",
              "    </tr>\n",
              "  </tbody>\n",
              "</table>\n",
              "</div>\n",
              "    <div class=\"colab-df-buttons\">\n",
              "\n",
              "  <div class=\"colab-df-container\">\n",
              "    <button class=\"colab-df-convert\" onclick=\"convertToInteractive('df-3c06bb5c-79eb-4f78-b357-a83912dfce1a')\"\n",
              "            title=\"Convert this dataframe to an interactive table.\"\n",
              "            style=\"display:none;\">\n",
              "\n",
              "  <svg xmlns=\"http://www.w3.org/2000/svg\" height=\"24px\" viewBox=\"0 -960 960 960\">\n",
              "    <path d=\"M120-120v-720h720v720H120Zm60-500h600v-160H180v160Zm220 220h160v-160H400v160Zm0 220h160v-160H400v160ZM180-400h160v-160H180v160Zm440 0h160v-160H620v160ZM180-180h160v-160H180v160Zm440 0h160v-160H620v160Z\"/>\n",
              "  </svg>\n",
              "    </button>\n",
              "\n",
              "  <style>\n",
              "    .colab-df-container {\n",
              "      display:flex;\n",
              "      gap: 12px;\n",
              "    }\n",
              "\n",
              "    .colab-df-convert {\n",
              "      background-color: #E8F0FE;\n",
              "      border: none;\n",
              "      border-radius: 50%;\n",
              "      cursor: pointer;\n",
              "      display: none;\n",
              "      fill: #1967D2;\n",
              "      height: 32px;\n",
              "      padding: 0 0 0 0;\n",
              "      width: 32px;\n",
              "    }\n",
              "\n",
              "    .colab-df-convert:hover {\n",
              "      background-color: #E2EBFA;\n",
              "      box-shadow: 0px 1px 2px rgba(60, 64, 67, 0.3), 0px 1px 3px 1px rgba(60, 64, 67, 0.15);\n",
              "      fill: #174EA6;\n",
              "    }\n",
              "\n",
              "    .colab-df-buttons div {\n",
              "      margin-bottom: 4px;\n",
              "    }\n",
              "\n",
              "    [theme=dark] .colab-df-convert {\n",
              "      background-color: #3B4455;\n",
              "      fill: #D2E3FC;\n",
              "    }\n",
              "\n",
              "    [theme=dark] .colab-df-convert:hover {\n",
              "      background-color: #434B5C;\n",
              "      box-shadow: 0px 1px 3px 1px rgba(0, 0, 0, 0.15);\n",
              "      filter: drop-shadow(0px 1px 2px rgba(0, 0, 0, 0.3));\n",
              "      fill: #FFFFFF;\n",
              "    }\n",
              "  </style>\n",
              "\n",
              "    <script>\n",
              "      const buttonEl =\n",
              "        document.querySelector('#df-3c06bb5c-79eb-4f78-b357-a83912dfce1a button.colab-df-convert');\n",
              "      buttonEl.style.display =\n",
              "        google.colab.kernel.accessAllowed ? 'block' : 'none';\n",
              "\n",
              "      async function convertToInteractive(key) {\n",
              "        const element = document.querySelector('#df-3c06bb5c-79eb-4f78-b357-a83912dfce1a');\n",
              "        const dataTable =\n",
              "          await google.colab.kernel.invokeFunction('convertToInteractive',\n",
              "                                                    [key], {});\n",
              "        if (!dataTable) return;\n",
              "\n",
              "        const docLinkHtml = 'Like what you see? Visit the ' +\n",
              "          '<a target=\"_blank\" href=https://colab.research.google.com/notebooks/data_table.ipynb>data table notebook</a>'\n",
              "          + ' to learn more about interactive tables.';\n",
              "        element.innerHTML = '';\n",
              "        dataTable['output_type'] = 'display_data';\n",
              "        await google.colab.output.renderOutput(dataTable, element);\n",
              "        const docLink = document.createElement('div');\n",
              "        docLink.innerHTML = docLinkHtml;\n",
              "        element.appendChild(docLink);\n",
              "      }\n",
              "    </script>\n",
              "  </div>\n",
              "\n",
              "\n",
              "<div id=\"df-17e75b65-505a-4df6-8ce8-9f2377a986bd\">\n",
              "  <button class=\"colab-df-quickchart\" onclick=\"quickchart('df-17e75b65-505a-4df6-8ce8-9f2377a986bd')\"\n",
              "            title=\"Suggest charts\"\n",
              "            style=\"display:none;\">\n",
              "\n",
              "<svg xmlns=\"http://www.w3.org/2000/svg\" height=\"24px\"viewBox=\"0 0 24 24\"\n",
              "     width=\"24px\">\n",
              "    <g>\n",
              "        <path d=\"M19 3H5c-1.1 0-2 .9-2 2v14c0 1.1.9 2 2 2h14c1.1 0 2-.9 2-2V5c0-1.1-.9-2-2-2zM9 17H7v-7h2v7zm4 0h-2V7h2v10zm4 0h-2v-4h2v4z\"/>\n",
              "    </g>\n",
              "</svg>\n",
              "  </button>\n",
              "\n",
              "<style>\n",
              "  .colab-df-quickchart {\n",
              "      --bg-color: #E8F0FE;\n",
              "      --fill-color: #1967D2;\n",
              "      --hover-bg-color: #E2EBFA;\n",
              "      --hover-fill-color: #174EA6;\n",
              "      --disabled-fill-color: #AAA;\n",
              "      --disabled-bg-color: #DDD;\n",
              "  }\n",
              "\n",
              "  [theme=dark] .colab-df-quickchart {\n",
              "      --bg-color: #3B4455;\n",
              "      --fill-color: #D2E3FC;\n",
              "      --hover-bg-color: #434B5C;\n",
              "      --hover-fill-color: #FFFFFF;\n",
              "      --disabled-bg-color: #3B4455;\n",
              "      --disabled-fill-color: #666;\n",
              "  }\n",
              "\n",
              "  .colab-df-quickchart {\n",
              "    background-color: var(--bg-color);\n",
              "    border: none;\n",
              "    border-radius: 50%;\n",
              "    cursor: pointer;\n",
              "    display: none;\n",
              "    fill: var(--fill-color);\n",
              "    height: 32px;\n",
              "    padding: 0;\n",
              "    width: 32px;\n",
              "  }\n",
              "\n",
              "  .colab-df-quickchart:hover {\n",
              "    background-color: var(--hover-bg-color);\n",
              "    box-shadow: 0 1px 2px rgba(60, 64, 67, 0.3), 0 1px 3px 1px rgba(60, 64, 67, 0.15);\n",
              "    fill: var(--button-hover-fill-color);\n",
              "  }\n",
              "\n",
              "  .colab-df-quickchart-complete:disabled,\n",
              "  .colab-df-quickchart-complete:disabled:hover {\n",
              "    background-color: var(--disabled-bg-color);\n",
              "    fill: var(--disabled-fill-color);\n",
              "    box-shadow: none;\n",
              "  }\n",
              "\n",
              "  .colab-df-spinner {\n",
              "    border: 2px solid var(--fill-color);\n",
              "    border-color: transparent;\n",
              "    border-bottom-color: var(--fill-color);\n",
              "    animation:\n",
              "      spin 1s steps(1) infinite;\n",
              "  }\n",
              "\n",
              "  @keyframes spin {\n",
              "    0% {\n",
              "      border-color: transparent;\n",
              "      border-bottom-color: var(--fill-color);\n",
              "      border-left-color: var(--fill-color);\n",
              "    }\n",
              "    20% {\n",
              "      border-color: transparent;\n",
              "      border-left-color: var(--fill-color);\n",
              "      border-top-color: var(--fill-color);\n",
              "    }\n",
              "    30% {\n",
              "      border-color: transparent;\n",
              "      border-left-color: var(--fill-color);\n",
              "      border-top-color: var(--fill-color);\n",
              "      border-right-color: var(--fill-color);\n",
              "    }\n",
              "    40% {\n",
              "      border-color: transparent;\n",
              "      border-right-color: var(--fill-color);\n",
              "      border-top-color: var(--fill-color);\n",
              "    }\n",
              "    60% {\n",
              "      border-color: transparent;\n",
              "      border-right-color: var(--fill-color);\n",
              "    }\n",
              "    80% {\n",
              "      border-color: transparent;\n",
              "      border-right-color: var(--fill-color);\n",
              "      border-bottom-color: var(--fill-color);\n",
              "    }\n",
              "    90% {\n",
              "      border-color: transparent;\n",
              "      border-bottom-color: var(--fill-color);\n",
              "    }\n",
              "  }\n",
              "</style>\n",
              "\n",
              "  <script>\n",
              "    async function quickchart(key) {\n",
              "      const quickchartButtonEl =\n",
              "        document.querySelector('#' + key + ' button');\n",
              "      quickchartButtonEl.disabled = true;  // To prevent multiple clicks.\n",
              "      quickchartButtonEl.classList.add('colab-df-spinner');\n",
              "      try {\n",
              "        const charts = await google.colab.kernel.invokeFunction(\n",
              "            'suggestCharts', [key], {});\n",
              "      } catch (error) {\n",
              "        console.error('Error during call to suggestCharts:', error);\n",
              "      }\n",
              "      quickchartButtonEl.classList.remove('colab-df-spinner');\n",
              "      quickchartButtonEl.classList.add('colab-df-quickchart-complete');\n",
              "    }\n",
              "    (() => {\n",
              "      let quickchartButtonEl =\n",
              "        document.querySelector('#df-17e75b65-505a-4df6-8ce8-9f2377a986bd button');\n",
              "      quickchartButtonEl.style.display =\n",
              "        google.colab.kernel.accessAllowed ? 'block' : 'none';\n",
              "    })();\n",
              "  </script>\n",
              "</div>\n",
              "\n",
              "    </div>\n",
              "  </div>\n"
            ],
            "application/vnd.google.colaboratory.intrinsic+json": {
              "type": "dataframe",
              "variable_name": "franklin_restaurants",
              "summary": "{\n  \"name\": \"franklin_restaurants\",\n  \"rows\": 25,\n  \"fields\": [\n    {\n      \"column\": \"Neighborhood\",\n      \"properties\": {\n        \"dtype\": \"category\",\n        \"num_unique_values\": 2,\n        \"samples\": [\n          \"W Franklin\",\n          \"E Franklin\"\n        ],\n        \"semantic_type\": \"\",\n        \"description\": \"\"\n      }\n    },\n    {\n      \"column\": \"Restaurant\",\n      \"properties\": {\n        \"dtype\": \"string\",\n        \"num_unique_values\": 25,\n        \"samples\": [\n          \"Might As Well\",\n          \"Kurama Sushi & Noodle Express\"\n        ],\n        \"semantic_type\": \"\",\n        \"description\": \"\"\n      }\n    },\n    {\n      \"column\": \"Price ($)\",\n      \"properties\": {\n        \"dtype\": \"number\",\n        \"std\": 5,\n        \"min\": 10,\n        \"max\": 31,\n        \"num_unique_values\": 16,\n        \"samples\": [\n          13,\n          18\n        ],\n        \"semantic_type\": \"\",\n        \"description\": \"\"\n      }\n    },\n    {\n      \"column\": \"Rating (out of 5)\",\n      \"properties\": {\n        \"dtype\": \"number\",\n        \"std\": 0.207605394920267,\n        \"min\": 4.0,\n        \"max\": 4.8,\n        \"num_unique_values\": 9,\n        \"samples\": [\n          4.8,\n          4.3\n        ],\n        \"semantic_type\": \"\",\n        \"description\": \"\"\n      }\n    }\n  ]\n}"
            }
          },
          "metadata": {},
          "execution_count": 5
        }
      ]
    },
    {
      "cell_type": "markdown",
      "source": [
        "To make things easier, we can extract the restaurant names, prices, and ratings from the `franklin_restaurants` table as separate lists that you can iterate through."
      ],
      "metadata": {
        "id": "EZ8P4rzI-ZgL"
      }
    },
    {
      "cell_type": "code",
      "source": [
        "franklin_names = list(franklin_restaurants['Restaurant'])\n",
        "franklin_prices = list(franklin_restaurants['Price ($)'])\n",
        "frankling_ratings = list(franklin_restaurants['Rating (out of 5)'])"
      ],
      "metadata": {
        "id": "YbsCkL6y-Diu"
      },
      "execution_count": 6,
      "outputs": []
    },
    {
      "cell_type": "code",
      "source": [
        "print(franklin_names)"
      ],
      "metadata": {
        "colab": {
          "base_uri": "https://localhost:8080/"
        },
        "id": "OrkqSaEv-O0n",
        "outputId": "ef76ea2e-379a-4480-8654-e6902d465e63"
      },
      "execution_count": 7,
      "outputs": [
        {
          "output_type": "stream",
          "name": "stdout",
          "text": [
            "['Time-Out Restaurant', 'Hibachi & Company', 'Wheat', 'Cosmic Cantina', 'Top of the Hill', 'Crossroads', 'La Residence', 'Que Chula', 'Might As Well', 'Heavenly Buffaloes', 'Italian Pizzeria III', 'TRU', 'Bonchon Chapel Hill', 'Grk Yeero', 'Zayka Indian Grill', 'Sup Dogs', 'Kurama Sushi & Noodle Express', 'Spicy 9 Sushi Bar & Asian Restaurant', \"Pantana Bob's\", 'Chimney Indian Kitchen', 'VooDoo Wing Company', 'Pirate Captain', 'Rougarou (Imbibe)', \"Momo's Master\", \"Blue's on Franklin\"]\n"
          ]
        }
      ]
    },
    {
      "cell_type": "markdown",
      "source": [
        "**Your task is to help James by building a _Restaurant Recommender_ &trade;** to suggest an ideal lunch spot that suits the user's desired restaurant price and rating.\n",
        "\n",
        "Design and implement your recommendation algorithm in the function `best_match`, which takes a `restaurants` table (like `franklin_restaurants`), an `ideal_price` (integer), and an `ideal_rating` (decimal) as inputs. The function should return the **name of the restaurant** in `restaurants` that best matches the user's preferences.\n",
        "\n",
        "Feel free to use the `distance` function in your implementation. The function takes in the 'x' and 'y' coordinates for two points and returns the [Euclidean distance](https://en.wikipedia.org/wiki/Euclidean_distance) between them.\n",
        "\n",
        "***Hint:*** `zip()` also works with three lists!"
      ],
      "metadata": {
        "id": "41vHO-MtlYqt"
      }
    },
    {
      "cell_type": "markdown",
      "source": [
        "### Try It Yourself: Build a Restaurant Recommender &trade;"
      ],
      "metadata": {
        "id": "IebmymAwlbiE"
      }
    },
    {
      "cell_type": "code",
      "source": [
        "def distance(x1, y1, x2, y2):\n",
        "  \"\"\"Returns the Euclidean distance between two points (x1, y1) and (x2, y2)\"\"\"\n",
        "\n",
        "  return np.sqrt((x1 - x2)**2 + (y1 - y2)**2)"
      ],
      "metadata": {
        "id": "fMwqulnAPMC7"
      },
      "execution_count": 8,
      "outputs": []
    },
    {
      "cell_type": "code",
      "source": [
        "def best_match(restaurants, ideal_price, ideal_rating):\n",
        "  \"\"\"\n",
        "  Given a table `restaurants`, an `ideal_price` (int) and an `ideal_rating (float),\n",
        "  return the name of the restaurant in the table that is the best match\n",
        "  \"\"\"\n",
        "  # to help you out, here are the restaurant names, prices, and ratings as lists:\n",
        "  restaurant_names = list(restaurants['Restaurant'])\n",
        "  restaurant_prices = list(restaurants['Price ($)'])\n",
        "  restaurant_ratings = list(restaurants['Rating (out of 5)'])\n",
        "\n",
        "  # write your algorithm here\n",
        "\n",
        "  return # return the name of the recommended restaurant"
      ],
      "metadata": {
        "id": "QcyCsTIPrSGe"
      },
      "execution_count": 9,
      "outputs": []
    },
    {
      "cell_type": "markdown",
      "source": [
        "#### Helper Functions\n",
        "\n",
        "\n",
        "**No need to understand what's happening in these two cells**—They help with the interactive graph below!"
      ],
      "metadata": {
        "id": "WMFcvrXZUdEE"
      }
    },
    {
      "cell_type": "code",
      "source": [
        "# Just run this cell to import the necessary libraries to make the iteractive visualization work\n",
        "\n",
        "import ipywidgets as widgets\n",
        "\n",
        "import plotly.express as px\n",
        "import plotly.graph_objects as go"
      ],
      "metadata": {
        "id": "1TuoD1IPQtET"
      },
      "execution_count": 10,
      "outputs": []
    },
    {
      "cell_type": "code",
      "source": [
        "# This cell takes care of setting up interactive sliders to change the `price` and `rating`\n",
        "# and visualizing the restaurants as points on a scatter plot\n",
        "\n",
        "# Just run me!\n",
        "\n",
        "price = 15\n",
        "rating = 4.2\n",
        "\n",
        "def plot_restaurants(restaurants, price, rating, square_aspect = False):\n",
        "\n",
        "  recommended_restaurant = best_match(restaurants, price, rating)\n",
        "  colors = restaurants['Restaurant'] == recommended_restaurant\n",
        "\n",
        "  fig = px.scatter(restaurants, x = 'Price ($)', y = 'Rating (out of 5)', hover_name = 'Restaurant', color = colors)\n",
        "  fig.add_trace(go.Scatter(x = [price], y = [rating], name='My Preference'))\n",
        "\n",
        "  fig.update_traces(marker = {'size': 10})\n",
        "  fig.update_layout(showlegend = False, title = 'Restaurant Recommender')\n",
        "\n",
        "  if square_aspect:\n",
        "    fig.update_layout(yaxis_scaleanchor=\"x\")\n",
        "\n",
        "  fig.show()\n",
        "\n",
        "\n",
        "def update(new_price, new_rating):\n",
        "    global price, rating\n",
        "    price = new_price\n",
        "    rating = new_rating"
      ],
      "metadata": {
        "id": "5ZeEMKbvsFrB"
      },
      "execution_count": 11,
      "outputs": []
    },
    {
      "cell_type": "markdown",
      "source": [
        "#### Interactive Graph\n",
        "\n",
        "Use the two cells below to visualize how the **_Restaurant Recommender_ &trade;** changes based on your desired price and rating, which you can input using the two sliders in the first cell. After selecting your price and rating, run the second cell to generate a scatter plot.\n",
        "\n",
        ">If your `best_match` function returns the _name_ of a restaurant in the `franklin_restaurants` table everything should work!"
      ],
      "metadata": {
        "id": "HPHA_TL8U3mu"
      }
    },
    {
      "cell_type": "code",
      "source": [
        "widgets.interact(update,\n",
        "                 new_price = widgets.IntSlider(min = 10, max = 30, value = price, description = 'Price ($)'),\n",
        "                 new_rating = widgets.FloatSlider(min = 3.8, max = 5, value = rating, description = 'Rating'));"
      ],
      "metadata": {
        "colab": {
          "base_uri": "https://localhost:8080/",
          "referenced_widgets": [
            "f3493749bdcf4703bd68c3a702cd6f8c",
            "ece42f4fdec1423fa38aea73d8a44940",
            "0e9a54054930453f95b9633f35a72105",
            "b5688bcb24c745698d1bf7db583880f7",
            "8484dc3af1db4d9bbedd393b1e7d36a6",
            "926d701ae0934119b8d77be331ca7cbd",
            "d39dae70a750449e9aa06dfaab0d781e",
            "5eeac22eec8d49138cd904a80e74a68c",
            "e97ea282e15e49d5a6e943849ccd3cd0",
            "9b66284314534f43b4945535027f6251"
          ],
          "height": 81
        },
        "id": "es1JV3XoQUJ-",
        "outputId": "efd73975-55b2-4631-f595-d38f96e8ee4a"
      },
      "execution_count": 33,
      "outputs": [
        {
          "output_type": "display_data",
          "data": {
            "text/plain": [
              "interactive(children=(IntSlider(value=15, description='Price ($)', max=30, min=10), FloatSlider(value=4.2, des…"
            ],
            "application/vnd.jupyter.widget-view+json": {
              "version_major": 2,
              "version_minor": 0,
              "model_id": "f3493749bdcf4703bd68c3a702cd6f8c"
            }
          },
          "metadata": {}
        }
      ]
    },
    {
      "cell_type": "code",
      "source": [
        "plot_restaurants(franklin_restaurants, price, rating, square_aspect=True)"
      ],
      "metadata": {
        "colab": {
          "base_uri": "https://localhost:8080/",
          "height": 542
        },
        "id": "FX85xWmrQZ7c",
        "outputId": "bf3b10de-865c-4428-bda4-4030188dd5c2"
      },
      "execution_count": 35,
      "outputs": [
        {
          "output_type": "display_data",
          "data": {
            "text/html": [
              "<html>\n",
              "<head><meta charset=\"utf-8\" /></head>\n",
              "<body>\n",
              "    <div>            <script src=\"https://cdnjs.cloudflare.com/ajax/libs/mathjax/2.7.5/MathJax.js?config=TeX-AMS-MML_SVG\"></script><script type=\"text/javascript\">if (window.MathJax && window.MathJax.Hub && window.MathJax.Hub.Config) {window.MathJax.Hub.Config({SVG: {font: \"STIX-Web\"}});}</script>                <script type=\"text/javascript\">window.PlotlyConfig = {MathJaxConfig: 'local'};</script>\n",
              "        <script charset=\"utf-8\" src=\"https://cdn.plot.ly/plotly-2.35.2.min.js\"></script>                <div id=\"d9eb277e-4219-444b-a4d2-4f2b1efd38aa\" class=\"plotly-graph-div\" style=\"height:525px; width:100%;\"></div>            <script type=\"text/javascript\">                                    window.PLOTLYENV=window.PLOTLYENV || {};                                    if (document.getElementById(\"d9eb277e-4219-444b-a4d2-4f2b1efd38aa\")) {                    Plotly.newPlot(                        \"d9eb277e-4219-444b-a4d2-4f2b1efd38aa\",                        [{\"hovertemplate\":\"\\u003cb\\u003e%{hovertext}\\u003c\\u002fb\\u003e\\u003cbr\\u003e\\u003cbr\\u003ecolor=False\\u003cbr\\u003ePrice ($)=%{x}\\u003cbr\\u003eRating (out of 5)=%{y}\\u003cextra\\u003e\\u003c\\u002fextra\\u003e\",\"hovertext\":[\"Time-Out Restaurant\",\"Hibachi & Company\",\"Wheat\",\"Cosmic Cantina\",\"Top of the Hill\",\"Crossroads\",\"La Residence\",\"Que Chula\",\"Might As Well\",\"Heavenly Buffaloes\",\"Italian Pizzeria III\",\"TRU\",\"Bonchon Chapel Hill\",\"Grk Yeero\",\"Zayka Indian Grill\",\"Sup Dogs\",\"Spicy 9 Sushi Bar & Asian Restaurant\",\"Pantana Bob's\",\"Chimney Indian Kitchen\",\"VooDoo Wing Company\",\"Pirate Captain\",\"Rougarou (Imbibe)\",\"Momo's Master\",\"Blue's on Franklin\"],\"legendgroup\":\"False\",\"marker\":{\"color\":\"#636efa\",\"symbol\":\"circle\",\"size\":10},\"mode\":\"markers\",\"name\":\"False\",\"orientation\":\"v\",\"showlegend\":true,\"x\":[13,18,20,17,25,31,29,16,14,12,15,20,18,11,28,10,17,19,22,13,12,16,14,20],\"xaxis\":\"x\",\"y\":[4.1,4.3,4.7,4.4,4.4,4.1,4.2,4.3,4.0,4.4,4.5,4.4,4.3,4.4,4.8,4.4,4.2,4.2,4.4,4.5,4.5,4.7,4.6,4.0],\"yaxis\":\"y\",\"type\":\"scatter\"},{\"hovertemplate\":\"\\u003cb\\u003e%{hovertext}\\u003c\\u002fb\\u003e\\u003cbr\\u003e\\u003cbr\\u003ecolor=True\\u003cbr\\u003ePrice ($)=%{x}\\u003cbr\\u003eRating (out of 5)=%{y}\\u003cextra\\u003e\\u003c\\u002fextra\\u003e\",\"hovertext\":[\"Kurama Sushi & Noodle Express\"],\"legendgroup\":\"True\",\"marker\":{\"color\":\"#EF553B\",\"symbol\":\"circle\",\"size\":10},\"mode\":\"markers\",\"name\":\"True\",\"orientation\":\"v\",\"showlegend\":true,\"x\":[15],\"xaxis\":\"x\",\"y\":[4.4],\"yaxis\":\"y\",\"type\":\"scatter\"},{\"name\":\"My Preference\",\"x\":[15],\"y\":[4.2],\"type\":\"scatter\",\"marker\":{\"size\":10}}],                        {\"template\":{\"data\":{\"histogram2dcontour\":[{\"type\":\"histogram2dcontour\",\"colorbar\":{\"outlinewidth\":0,\"ticks\":\"\"},\"colorscale\":[[0.0,\"#0d0887\"],[0.1111111111111111,\"#46039f\"],[0.2222222222222222,\"#7201a8\"],[0.3333333333333333,\"#9c179e\"],[0.4444444444444444,\"#bd3786\"],[0.5555555555555556,\"#d8576b\"],[0.6666666666666666,\"#ed7953\"],[0.7777777777777778,\"#fb9f3a\"],[0.8888888888888888,\"#fdca26\"],[1.0,\"#f0f921\"]]}],\"choropleth\":[{\"type\":\"choropleth\",\"colorbar\":{\"outlinewidth\":0,\"ticks\":\"\"}}],\"histogram2d\":[{\"type\":\"histogram2d\",\"colorbar\":{\"outlinewidth\":0,\"ticks\":\"\"},\"colorscale\":[[0.0,\"#0d0887\"],[0.1111111111111111,\"#46039f\"],[0.2222222222222222,\"#7201a8\"],[0.3333333333333333,\"#9c179e\"],[0.4444444444444444,\"#bd3786\"],[0.5555555555555556,\"#d8576b\"],[0.6666666666666666,\"#ed7953\"],[0.7777777777777778,\"#fb9f3a\"],[0.8888888888888888,\"#fdca26\"],[1.0,\"#f0f921\"]]}],\"heatmap\":[{\"type\":\"heatmap\",\"colorbar\":{\"outlinewidth\":0,\"ticks\":\"\"},\"colorscale\":[[0.0,\"#0d0887\"],[0.1111111111111111,\"#46039f\"],[0.2222222222222222,\"#7201a8\"],[0.3333333333333333,\"#9c179e\"],[0.4444444444444444,\"#bd3786\"],[0.5555555555555556,\"#d8576b\"],[0.6666666666666666,\"#ed7953\"],[0.7777777777777778,\"#fb9f3a\"],[0.8888888888888888,\"#fdca26\"],[1.0,\"#f0f921\"]]}],\"heatmapgl\":[{\"type\":\"heatmapgl\",\"colorbar\":{\"outlinewidth\":0,\"ticks\":\"\"},\"colorscale\":[[0.0,\"#0d0887\"],[0.1111111111111111,\"#46039f\"],[0.2222222222222222,\"#7201a8\"],[0.3333333333333333,\"#9c179e\"],[0.4444444444444444,\"#bd3786\"],[0.5555555555555556,\"#d8576b\"],[0.6666666666666666,\"#ed7953\"],[0.7777777777777778,\"#fb9f3a\"],[0.8888888888888888,\"#fdca26\"],[1.0,\"#f0f921\"]]}],\"contourcarpet\":[{\"type\":\"contourcarpet\",\"colorbar\":{\"outlinewidth\":0,\"ticks\":\"\"}}],\"contour\":[{\"type\":\"contour\",\"colorbar\":{\"outlinewidth\":0,\"ticks\":\"\"},\"colorscale\":[[0.0,\"#0d0887\"],[0.1111111111111111,\"#46039f\"],[0.2222222222222222,\"#7201a8\"],[0.3333333333333333,\"#9c179e\"],[0.4444444444444444,\"#bd3786\"],[0.5555555555555556,\"#d8576b\"],[0.6666666666666666,\"#ed7953\"],[0.7777777777777778,\"#fb9f3a\"],[0.8888888888888888,\"#fdca26\"],[1.0,\"#f0f921\"]]}],\"surface\":[{\"type\":\"surface\",\"colorbar\":{\"outlinewidth\":0,\"ticks\":\"\"},\"colorscale\":[[0.0,\"#0d0887\"],[0.1111111111111111,\"#46039f\"],[0.2222222222222222,\"#7201a8\"],[0.3333333333333333,\"#9c179e\"],[0.4444444444444444,\"#bd3786\"],[0.5555555555555556,\"#d8576b\"],[0.6666666666666666,\"#ed7953\"],[0.7777777777777778,\"#fb9f3a\"],[0.8888888888888888,\"#fdca26\"],[1.0,\"#f0f921\"]]}],\"mesh3d\":[{\"type\":\"mesh3d\",\"colorbar\":{\"outlinewidth\":0,\"ticks\":\"\"}}],\"scatter\":[{\"fillpattern\":{\"fillmode\":\"overlay\",\"size\":10,\"solidity\":0.2},\"type\":\"scatter\"}],\"parcoords\":[{\"type\":\"parcoords\",\"line\":{\"colorbar\":{\"outlinewidth\":0,\"ticks\":\"\"}}}],\"scatterpolargl\":[{\"type\":\"scatterpolargl\",\"marker\":{\"colorbar\":{\"outlinewidth\":0,\"ticks\":\"\"}}}],\"bar\":[{\"error_x\":{\"color\":\"#2a3f5f\"},\"error_y\":{\"color\":\"#2a3f5f\"},\"marker\":{\"line\":{\"color\":\"#E5ECF6\",\"width\":0.5},\"pattern\":{\"fillmode\":\"overlay\",\"size\":10,\"solidity\":0.2}},\"type\":\"bar\"}],\"scattergeo\":[{\"type\":\"scattergeo\",\"marker\":{\"colorbar\":{\"outlinewidth\":0,\"ticks\":\"\"}}}],\"scatterpolar\":[{\"type\":\"scatterpolar\",\"marker\":{\"colorbar\":{\"outlinewidth\":0,\"ticks\":\"\"}}}],\"histogram\":[{\"marker\":{\"pattern\":{\"fillmode\":\"overlay\",\"size\":10,\"solidity\":0.2}},\"type\":\"histogram\"}],\"scattergl\":[{\"type\":\"scattergl\",\"marker\":{\"colorbar\":{\"outlinewidth\":0,\"ticks\":\"\"}}}],\"scatter3d\":[{\"type\":\"scatter3d\",\"line\":{\"colorbar\":{\"outlinewidth\":0,\"ticks\":\"\"}},\"marker\":{\"colorbar\":{\"outlinewidth\":0,\"ticks\":\"\"}}}],\"scattermapbox\":[{\"type\":\"scattermapbox\",\"marker\":{\"colorbar\":{\"outlinewidth\":0,\"ticks\":\"\"}}}],\"scatterternary\":[{\"type\":\"scatterternary\",\"marker\":{\"colorbar\":{\"outlinewidth\":0,\"ticks\":\"\"}}}],\"scattercarpet\":[{\"type\":\"scattercarpet\",\"marker\":{\"colorbar\":{\"outlinewidth\":0,\"ticks\":\"\"}}}],\"carpet\":[{\"aaxis\":{\"endlinecolor\":\"#2a3f5f\",\"gridcolor\":\"white\",\"linecolor\":\"white\",\"minorgridcolor\":\"white\",\"startlinecolor\":\"#2a3f5f\"},\"baxis\":{\"endlinecolor\":\"#2a3f5f\",\"gridcolor\":\"white\",\"linecolor\":\"white\",\"minorgridcolor\":\"white\",\"startlinecolor\":\"#2a3f5f\"},\"type\":\"carpet\"}],\"table\":[{\"cells\":{\"fill\":{\"color\":\"#EBF0F8\"},\"line\":{\"color\":\"white\"}},\"header\":{\"fill\":{\"color\":\"#C8D4E3\"},\"line\":{\"color\":\"white\"}},\"type\":\"table\"}],\"barpolar\":[{\"marker\":{\"line\":{\"color\":\"#E5ECF6\",\"width\":0.5},\"pattern\":{\"fillmode\":\"overlay\",\"size\":10,\"solidity\":0.2}},\"type\":\"barpolar\"}],\"pie\":[{\"automargin\":true,\"type\":\"pie\"}]},\"layout\":{\"autotypenumbers\":\"strict\",\"colorway\":[\"#636efa\",\"#EF553B\",\"#00cc96\",\"#ab63fa\",\"#FFA15A\",\"#19d3f3\",\"#FF6692\",\"#B6E880\",\"#FF97FF\",\"#FECB52\"],\"font\":{\"color\":\"#2a3f5f\"},\"hovermode\":\"closest\",\"hoverlabel\":{\"align\":\"left\"},\"paper_bgcolor\":\"white\",\"plot_bgcolor\":\"#E5ECF6\",\"polar\":{\"bgcolor\":\"#E5ECF6\",\"angularaxis\":{\"gridcolor\":\"white\",\"linecolor\":\"white\",\"ticks\":\"\"},\"radialaxis\":{\"gridcolor\":\"white\",\"linecolor\":\"white\",\"ticks\":\"\"}},\"ternary\":{\"bgcolor\":\"#E5ECF6\",\"aaxis\":{\"gridcolor\":\"white\",\"linecolor\":\"white\",\"ticks\":\"\"},\"baxis\":{\"gridcolor\":\"white\",\"linecolor\":\"white\",\"ticks\":\"\"},\"caxis\":{\"gridcolor\":\"white\",\"linecolor\":\"white\",\"ticks\":\"\"}},\"coloraxis\":{\"colorbar\":{\"outlinewidth\":0,\"ticks\":\"\"}},\"colorscale\":{\"sequential\":[[0.0,\"#0d0887\"],[0.1111111111111111,\"#46039f\"],[0.2222222222222222,\"#7201a8\"],[0.3333333333333333,\"#9c179e\"],[0.4444444444444444,\"#bd3786\"],[0.5555555555555556,\"#d8576b\"],[0.6666666666666666,\"#ed7953\"],[0.7777777777777778,\"#fb9f3a\"],[0.8888888888888888,\"#fdca26\"],[1.0,\"#f0f921\"]],\"sequentialminus\":[[0.0,\"#0d0887\"],[0.1111111111111111,\"#46039f\"],[0.2222222222222222,\"#7201a8\"],[0.3333333333333333,\"#9c179e\"],[0.4444444444444444,\"#bd3786\"],[0.5555555555555556,\"#d8576b\"],[0.6666666666666666,\"#ed7953\"],[0.7777777777777778,\"#fb9f3a\"],[0.8888888888888888,\"#fdca26\"],[1.0,\"#f0f921\"]],\"diverging\":[[0,\"#8e0152\"],[0.1,\"#c51b7d\"],[0.2,\"#de77ae\"],[0.3,\"#f1b6da\"],[0.4,\"#fde0ef\"],[0.5,\"#f7f7f7\"],[0.6,\"#e6f5d0\"],[0.7,\"#b8e186\"],[0.8,\"#7fbc41\"],[0.9,\"#4d9221\"],[1,\"#276419\"]]},\"xaxis\":{\"gridcolor\":\"white\",\"linecolor\":\"white\",\"ticks\":\"\",\"title\":{\"standoff\":15},\"zerolinecolor\":\"white\",\"automargin\":true,\"zerolinewidth\":2},\"yaxis\":{\"gridcolor\":\"white\",\"linecolor\":\"white\",\"ticks\":\"\",\"title\":{\"standoff\":15},\"zerolinecolor\":\"white\",\"automargin\":true,\"zerolinewidth\":2},\"scene\":{\"xaxis\":{\"backgroundcolor\":\"#E5ECF6\",\"gridcolor\":\"white\",\"linecolor\":\"white\",\"showbackground\":true,\"ticks\":\"\",\"zerolinecolor\":\"white\",\"gridwidth\":2},\"yaxis\":{\"backgroundcolor\":\"#E5ECF6\",\"gridcolor\":\"white\",\"linecolor\":\"white\",\"showbackground\":true,\"ticks\":\"\",\"zerolinecolor\":\"white\",\"gridwidth\":2},\"zaxis\":{\"backgroundcolor\":\"#E5ECF6\",\"gridcolor\":\"white\",\"linecolor\":\"white\",\"showbackground\":true,\"ticks\":\"\",\"zerolinecolor\":\"white\",\"gridwidth\":2}},\"shapedefaults\":{\"line\":{\"color\":\"#2a3f5f\"}},\"annotationdefaults\":{\"arrowcolor\":\"#2a3f5f\",\"arrowhead\":0,\"arrowwidth\":1},\"geo\":{\"bgcolor\":\"white\",\"landcolor\":\"#E5ECF6\",\"subunitcolor\":\"white\",\"showland\":true,\"showlakes\":true,\"lakecolor\":\"white\"},\"title\":{\"x\":0.05},\"mapbox\":{\"style\":\"light\"}}},\"xaxis\":{\"anchor\":\"y\",\"domain\":[0.0,1.0],\"title\":{\"text\":\"Price ($)\"}},\"yaxis\":{\"anchor\":\"x\",\"domain\":[0.0,1.0],\"title\":{\"text\":\"Rating (out of 5)\"},\"scaleanchor\":\"x\"},\"legend\":{\"title\":{\"text\":\"color\"},\"tracegroupgap\":0},\"margin\":{\"t\":60},\"showlegend\":false,\"title\":{\"text\":\"Restaurant Recommender\"}},                        {\"responsive\": true}                    ).then(function(){\n",
              "                            \n",
              "var gd = document.getElementById('d9eb277e-4219-444b-a4d2-4f2b1efd38aa');\n",
              "var x = new MutationObserver(function (mutations, observer) {{\n",
              "        var display = window.getComputedStyle(gd).display;\n",
              "        if (!display || display === 'none') {{\n",
              "            console.log([gd, 'removed!']);\n",
              "            Plotly.purge(gd);\n",
              "            observer.disconnect();\n",
              "        }}\n",
              "}});\n",
              "\n",
              "// Listen for the removal of the full notebook cells\n",
              "var notebookContainer = gd.closest('#notebook-container');\n",
              "if (notebookContainer) {{\n",
              "    x.observe(notebookContainer, {childList: true});\n",
              "}}\n",
              "\n",
              "// Listen for the clearing of the current output cell\n",
              "var outputEl = gd.closest('.output');\n",
              "if (outputEl) {{\n",
              "    x.observe(outputEl, {childList: true});\n",
              "}}\n",
              "\n",
              "                        })                };                            </script>        </div>\n",
              "</body>\n",
              "</html>"
            ]
          },
          "metadata": {}
        }
      ]
    },
    {
      "cell_type": "markdown",
      "source": [
        "## **3. Just For Fun...**"
      ],
      "metadata": {
        "id": "d0l-1jOzsTWU"
      }
    },
    {
      "cell_type": "markdown",
      "source": [
        ">**Note!** This section is just for fun since we won't have time to cover it fully in the lecture. Feel free to browse the code cell in the _k-Means Implementation_ section and see if you can figure out what each of the _for loops_ in the algorithm is doing."
      ],
      "metadata": {
        "id": "6BGSYRMlpaNf"
      }
    },
    {
      "cell_type": "markdown",
      "source": [
        "Another common machine learning task is to **cluster** data points into distinct groups. For example, the `ch_restaurants` table contains restaurant information (similar to `franklin_restaurants`) from three Chapel Hill 'neighborhoods': East Franklin St, West Franklin Street, and Carrboro.\n",
        "\n",
        "We want a machine learning algorithm that can cluster each restaurant according to its neighborhood **without** actually knowing that information.\n",
        "\n",
        "___Is this even possible?___ Let's see..."
      ],
      "metadata": {
        "id": "zQl4JTR8qIee"
      }
    },
    {
      "cell_type": "code",
      "source": [
        "ch_restaurants = pd.read_csv('https://github.com/james-weichert/teaching/blob/main/teaching-demos/unc/ch_restaurants.csv?raw=true')\n",
        "ch_restaurants.head()"
      ],
      "metadata": {
        "colab": {
          "base_uri": "https://localhost:8080/",
          "height": 206
        },
        "id": "QxbHh7GwVEpZ",
        "outputId": "3cc89d73-faee-42a5-f249-9247f08bcc3e"
      },
      "execution_count": 21,
      "outputs": [
        {
          "output_type": "execute_result",
          "data": {
            "text/plain": [
              "  Neighborhood               Restaurant  Price ($)  Rating (out of 5)\n",
              "0     Carrboro                 401 Main         25                4.5\n",
              "1     Carrboro          Luna Rotisserie         20                4.5\n",
              "2     Carrboro       Breakaway Carrboro         23                4.5\n",
              "3     Carrboro  Acme Food & Beverage Co         28                4.4\n",
              "4     Carrboro   Spotted Dog Restaurant         21                4.4"
            ],
            "text/html": [
              "\n",
              "  <div id=\"df-b4415f12-dc42-4c13-ae40-dcf92565ebb6\" class=\"colab-df-container\">\n",
              "    <div>\n",
              "<style scoped>\n",
              "    .dataframe tbody tr th:only-of-type {\n",
              "        vertical-align: middle;\n",
              "    }\n",
              "\n",
              "    .dataframe tbody tr th {\n",
              "        vertical-align: top;\n",
              "    }\n",
              "\n",
              "    .dataframe thead th {\n",
              "        text-align: right;\n",
              "    }\n",
              "</style>\n",
              "<table border=\"1\" class=\"dataframe\">\n",
              "  <thead>\n",
              "    <tr style=\"text-align: right;\">\n",
              "      <th></th>\n",
              "      <th>Neighborhood</th>\n",
              "      <th>Restaurant</th>\n",
              "      <th>Price ($)</th>\n",
              "      <th>Rating (out of 5)</th>\n",
              "    </tr>\n",
              "  </thead>\n",
              "  <tbody>\n",
              "    <tr>\n",
              "      <th>0</th>\n",
              "      <td>Carrboro</td>\n",
              "      <td>401 Main</td>\n",
              "      <td>25</td>\n",
              "      <td>4.5</td>\n",
              "    </tr>\n",
              "    <tr>\n",
              "      <th>1</th>\n",
              "      <td>Carrboro</td>\n",
              "      <td>Luna Rotisserie</td>\n",
              "      <td>20</td>\n",
              "      <td>4.5</td>\n",
              "    </tr>\n",
              "    <tr>\n",
              "      <th>2</th>\n",
              "      <td>Carrboro</td>\n",
              "      <td>Breakaway Carrboro</td>\n",
              "      <td>23</td>\n",
              "      <td>4.5</td>\n",
              "    </tr>\n",
              "    <tr>\n",
              "      <th>3</th>\n",
              "      <td>Carrboro</td>\n",
              "      <td>Acme Food &amp; Beverage Co</td>\n",
              "      <td>28</td>\n",
              "      <td>4.4</td>\n",
              "    </tr>\n",
              "    <tr>\n",
              "      <th>4</th>\n",
              "      <td>Carrboro</td>\n",
              "      <td>Spotted Dog Restaurant</td>\n",
              "      <td>21</td>\n",
              "      <td>4.4</td>\n",
              "    </tr>\n",
              "  </tbody>\n",
              "</table>\n",
              "</div>\n",
              "    <div class=\"colab-df-buttons\">\n",
              "\n",
              "  <div class=\"colab-df-container\">\n",
              "    <button class=\"colab-df-convert\" onclick=\"convertToInteractive('df-b4415f12-dc42-4c13-ae40-dcf92565ebb6')\"\n",
              "            title=\"Convert this dataframe to an interactive table.\"\n",
              "            style=\"display:none;\">\n",
              "\n",
              "  <svg xmlns=\"http://www.w3.org/2000/svg\" height=\"24px\" viewBox=\"0 -960 960 960\">\n",
              "    <path d=\"M120-120v-720h720v720H120Zm60-500h600v-160H180v160Zm220 220h160v-160H400v160Zm0 220h160v-160H400v160ZM180-400h160v-160H180v160Zm440 0h160v-160H620v160ZM180-180h160v-160H180v160Zm440 0h160v-160H620v160Z\"/>\n",
              "  </svg>\n",
              "    </button>\n",
              "\n",
              "  <style>\n",
              "    .colab-df-container {\n",
              "      display:flex;\n",
              "      gap: 12px;\n",
              "    }\n",
              "\n",
              "    .colab-df-convert {\n",
              "      background-color: #E8F0FE;\n",
              "      border: none;\n",
              "      border-radius: 50%;\n",
              "      cursor: pointer;\n",
              "      display: none;\n",
              "      fill: #1967D2;\n",
              "      height: 32px;\n",
              "      padding: 0 0 0 0;\n",
              "      width: 32px;\n",
              "    }\n",
              "\n",
              "    .colab-df-convert:hover {\n",
              "      background-color: #E2EBFA;\n",
              "      box-shadow: 0px 1px 2px rgba(60, 64, 67, 0.3), 0px 1px 3px 1px rgba(60, 64, 67, 0.15);\n",
              "      fill: #174EA6;\n",
              "    }\n",
              "\n",
              "    .colab-df-buttons div {\n",
              "      margin-bottom: 4px;\n",
              "    }\n",
              "\n",
              "    [theme=dark] .colab-df-convert {\n",
              "      background-color: #3B4455;\n",
              "      fill: #D2E3FC;\n",
              "    }\n",
              "\n",
              "    [theme=dark] .colab-df-convert:hover {\n",
              "      background-color: #434B5C;\n",
              "      box-shadow: 0px 1px 3px 1px rgba(0, 0, 0, 0.15);\n",
              "      filter: drop-shadow(0px 1px 2px rgba(0, 0, 0, 0.3));\n",
              "      fill: #FFFFFF;\n",
              "    }\n",
              "  </style>\n",
              "\n",
              "    <script>\n",
              "      const buttonEl =\n",
              "        document.querySelector('#df-b4415f12-dc42-4c13-ae40-dcf92565ebb6 button.colab-df-convert');\n",
              "      buttonEl.style.display =\n",
              "        google.colab.kernel.accessAllowed ? 'block' : 'none';\n",
              "\n",
              "      async function convertToInteractive(key) {\n",
              "        const element = document.querySelector('#df-b4415f12-dc42-4c13-ae40-dcf92565ebb6');\n",
              "        const dataTable =\n",
              "          await google.colab.kernel.invokeFunction('convertToInteractive',\n",
              "                                                    [key], {});\n",
              "        if (!dataTable) return;\n",
              "\n",
              "        const docLinkHtml = 'Like what you see? Visit the ' +\n",
              "          '<a target=\"_blank\" href=https://colab.research.google.com/notebooks/data_table.ipynb>data table notebook</a>'\n",
              "          + ' to learn more about interactive tables.';\n",
              "        element.innerHTML = '';\n",
              "        dataTable['output_type'] = 'display_data';\n",
              "        await google.colab.output.renderOutput(dataTable, element);\n",
              "        const docLink = document.createElement('div');\n",
              "        docLink.innerHTML = docLinkHtml;\n",
              "        element.appendChild(docLink);\n",
              "      }\n",
              "    </script>\n",
              "  </div>\n",
              "\n",
              "\n",
              "<div id=\"df-f7b1bb4e-48d0-4e74-b78b-1cb9e5f2fe0b\">\n",
              "  <button class=\"colab-df-quickchart\" onclick=\"quickchart('df-f7b1bb4e-48d0-4e74-b78b-1cb9e5f2fe0b')\"\n",
              "            title=\"Suggest charts\"\n",
              "            style=\"display:none;\">\n",
              "\n",
              "<svg xmlns=\"http://www.w3.org/2000/svg\" height=\"24px\"viewBox=\"0 0 24 24\"\n",
              "     width=\"24px\">\n",
              "    <g>\n",
              "        <path d=\"M19 3H5c-1.1 0-2 .9-2 2v14c0 1.1.9 2 2 2h14c1.1 0 2-.9 2-2V5c0-1.1-.9-2-2-2zM9 17H7v-7h2v7zm4 0h-2V7h2v10zm4 0h-2v-4h2v4z\"/>\n",
              "    </g>\n",
              "</svg>\n",
              "  </button>\n",
              "\n",
              "<style>\n",
              "  .colab-df-quickchart {\n",
              "      --bg-color: #E8F0FE;\n",
              "      --fill-color: #1967D2;\n",
              "      --hover-bg-color: #E2EBFA;\n",
              "      --hover-fill-color: #174EA6;\n",
              "      --disabled-fill-color: #AAA;\n",
              "      --disabled-bg-color: #DDD;\n",
              "  }\n",
              "\n",
              "  [theme=dark] .colab-df-quickchart {\n",
              "      --bg-color: #3B4455;\n",
              "      --fill-color: #D2E3FC;\n",
              "      --hover-bg-color: #434B5C;\n",
              "      --hover-fill-color: #FFFFFF;\n",
              "      --disabled-bg-color: #3B4455;\n",
              "      --disabled-fill-color: #666;\n",
              "  }\n",
              "\n",
              "  .colab-df-quickchart {\n",
              "    background-color: var(--bg-color);\n",
              "    border: none;\n",
              "    border-radius: 50%;\n",
              "    cursor: pointer;\n",
              "    display: none;\n",
              "    fill: var(--fill-color);\n",
              "    height: 32px;\n",
              "    padding: 0;\n",
              "    width: 32px;\n",
              "  }\n",
              "\n",
              "  .colab-df-quickchart:hover {\n",
              "    background-color: var(--hover-bg-color);\n",
              "    box-shadow: 0 1px 2px rgba(60, 64, 67, 0.3), 0 1px 3px 1px rgba(60, 64, 67, 0.15);\n",
              "    fill: var(--button-hover-fill-color);\n",
              "  }\n",
              "\n",
              "  .colab-df-quickchart-complete:disabled,\n",
              "  .colab-df-quickchart-complete:disabled:hover {\n",
              "    background-color: var(--disabled-bg-color);\n",
              "    fill: var(--disabled-fill-color);\n",
              "    box-shadow: none;\n",
              "  }\n",
              "\n",
              "  .colab-df-spinner {\n",
              "    border: 2px solid var(--fill-color);\n",
              "    border-color: transparent;\n",
              "    border-bottom-color: var(--fill-color);\n",
              "    animation:\n",
              "      spin 1s steps(1) infinite;\n",
              "  }\n",
              "\n",
              "  @keyframes spin {\n",
              "    0% {\n",
              "      border-color: transparent;\n",
              "      border-bottom-color: var(--fill-color);\n",
              "      border-left-color: var(--fill-color);\n",
              "    }\n",
              "    20% {\n",
              "      border-color: transparent;\n",
              "      border-left-color: var(--fill-color);\n",
              "      border-top-color: var(--fill-color);\n",
              "    }\n",
              "    30% {\n",
              "      border-color: transparent;\n",
              "      border-left-color: var(--fill-color);\n",
              "      border-top-color: var(--fill-color);\n",
              "      border-right-color: var(--fill-color);\n",
              "    }\n",
              "    40% {\n",
              "      border-color: transparent;\n",
              "      border-right-color: var(--fill-color);\n",
              "      border-top-color: var(--fill-color);\n",
              "    }\n",
              "    60% {\n",
              "      border-color: transparent;\n",
              "      border-right-color: var(--fill-color);\n",
              "    }\n",
              "    80% {\n",
              "      border-color: transparent;\n",
              "      border-right-color: var(--fill-color);\n",
              "      border-bottom-color: var(--fill-color);\n",
              "    }\n",
              "    90% {\n",
              "      border-color: transparent;\n",
              "      border-bottom-color: var(--fill-color);\n",
              "    }\n",
              "  }\n",
              "</style>\n",
              "\n",
              "  <script>\n",
              "    async function quickchart(key) {\n",
              "      const quickchartButtonEl =\n",
              "        document.querySelector('#' + key + ' button');\n",
              "      quickchartButtonEl.disabled = true;  // To prevent multiple clicks.\n",
              "      quickchartButtonEl.classList.add('colab-df-spinner');\n",
              "      try {\n",
              "        const charts = await google.colab.kernel.invokeFunction(\n",
              "            'suggestCharts', [key], {});\n",
              "      } catch (error) {\n",
              "        console.error('Error during call to suggestCharts:', error);\n",
              "      }\n",
              "      quickchartButtonEl.classList.remove('colab-df-spinner');\n",
              "      quickchartButtonEl.classList.add('colab-df-quickchart-complete');\n",
              "    }\n",
              "    (() => {\n",
              "      let quickchartButtonEl =\n",
              "        document.querySelector('#df-f7b1bb4e-48d0-4e74-b78b-1cb9e5f2fe0b button');\n",
              "      quickchartButtonEl.style.display =\n",
              "        google.colab.kernel.accessAllowed ? 'block' : 'none';\n",
              "    })();\n",
              "  </script>\n",
              "</div>\n",
              "\n",
              "    </div>\n",
              "  </div>\n"
            ],
            "application/vnd.google.colaboratory.intrinsic+json": {
              "type": "dataframe",
              "variable_name": "ch_restaurants",
              "summary": "{\n  \"name\": \"ch_restaurants\",\n  \"rows\": 36,\n  \"fields\": [\n    {\n      \"column\": \"Neighborhood\",\n      \"properties\": {\n        \"dtype\": \"category\",\n        \"num_unique_values\": 3,\n        \"samples\": [\n          \"Carrboro\",\n          \"E Franklin\",\n          \"W Franklin\"\n        ],\n        \"semantic_type\": \"\",\n        \"description\": \"\"\n      }\n    },\n    {\n      \"column\": \"Restaurant\",\n      \"properties\": {\n        \"dtype\": \"string\",\n        \"num_unique_values\": 36,\n        \"samples\": [\n          \"Pho Happiness\",\n          \"Hibachi & Company\",\n          \"Que Chula\"\n        ],\n        \"semantic_type\": \"\",\n        \"description\": \"\"\n      }\n    },\n    {\n      \"column\": \"Price ($)\",\n      \"properties\": {\n        \"dtype\": \"number\",\n        \"std\": 8,\n        \"min\": 10,\n        \"max\": 50,\n        \"num_unique_values\": 21,\n        \"samples\": [\n          25,\n          14,\n          12\n        ],\n        \"semantic_type\": \"\",\n        \"description\": \"\"\n      }\n    },\n    {\n      \"column\": \"Rating (out of 5)\",\n      \"properties\": {\n        \"dtype\": \"number\",\n        \"std\": 0.19910514092523365,\n        \"min\": 4.0,\n        \"max\": 4.8,\n        \"num_unique_values\": 9,\n        \"samples\": [\n          4.8,\n          4.4,\n          4.1\n        ],\n        \"semantic_type\": \"\",\n        \"description\": \"\"\n      }\n    }\n  ]\n}"
            }
          },
          "metadata": {},
          "execution_count": 21
        }
      ]
    },
    {
      "cell_type": "markdown",
      "source": [
        "### k-Means Clustering"
      ],
      "metadata": {
        "id": "HRZw6D4DfFca"
      }
    },
    {
      "cell_type": "markdown",
      "source": [
        "The algorithm we will use to accomplish our task is called **k-Means Clustering**, which has a fixed parameter `k` that specifies how many clusters we want. Since we know there are three neighborhoods represented in our data, we will set `k = 3`.\n",
        "\n",
        "k-Means works by trying to position the cluster centers (called \"centroids\") in such a way that all of the data points are closer to their own centroid than to the centroid of a different cluster. To accomplish this, the algorithm repeats the following two steps for a certain number of times (after randomly initializing each centroid):\n",
        "\n",
        "1. Assign each data point to the cluster with the closest centroid\n",
        "2. Re-calculate the cluster centroids to be the average of all of the points in the cluster\n",
        "\n",
        "After running for multiple iterations, the algorithm should beging to converge to stable clusters that capture the big 'groupings' present in the data."
      ],
      "metadata": {
        "id": "RQVrNnBRrFnm"
      }
    },
    {
      "cell_type": "markdown",
      "source": [
        "#### K-Means Implementation"
      ],
      "metadata": {
        "id": "DJKKrdk_ls3o"
      }
    },
    {
      "cell_type": "code",
      "source": [
        "def k_means(restaurants, clusters = 3, iter = 10):\n",
        "  \"\"\"\n",
        "  Given a table of restaurants and a number of clusters,\n",
        "  use the k-means clustering algorithm (`iter` number of iterations)\n",
        "  to assign each data point to one of three clusters\n",
        "  \"\"\"\n",
        "\n",
        "  n = len(restaurants)\n",
        "\n",
        "  # We normalize the price and ratings variables to make the clusters fit better\n",
        "\n",
        "  normalized_prices = (restaurants['Price ($)'] - np.mean(restaurants['Price ($)'])) / np.std(restaurants['Price ($)'])\n",
        "  normalized_ratings = (restaurants['Rating (out of 5)'] - np.mean(restaurants['Rating (out of 5)'])) / np.std(restaurants['Rating (out of 5)'])\n",
        "\n",
        "  # Randomly initialize cluster centroids\n",
        "\n",
        "  centroids = [np.random.random(size=2), np.random.random(size=2), np.random.random(size=2)]\n",
        "\n",
        "  # Repeat STEP 1 and STEP 2 a specified number of times\n",
        "  for i in range(iter):\n",
        "\n",
        "    # STEP 1: Assign points to closest centroid\n",
        "\n",
        "    cluster_assignments = np.zeros(shape = n)\n",
        "\n",
        "    # Loop over all data points j\n",
        "    for j in range(n):\n",
        "\n",
        "      min_dist = 1000\n",
        "      min_cluster = 0\n",
        "\n",
        "      # For each cluster k, check if data point j is closer to that cluster centroid\n",
        "      for k in range(clusters):\n",
        "\n",
        "        restaurant_price = normalized_prices[j]\n",
        "        restaurant_rating = normalized_ratings[j]\n",
        "\n",
        "        dist = distance(centroids[k][0], centroids[k][1], restaurant_price, restaurant_rating)\n",
        "\n",
        "        if dist < min_dist:\n",
        "          min_cluster = k\n",
        "          min_dist = dist\n",
        "\n",
        "      # Assign data point j to the cluster with the smallest distance to the centroid\n",
        "      cluster_assignments[j] = min_cluster\n",
        "\n",
        "    # STEP 2: Update centroids to be the mean of the points in the cluster\n",
        "\n",
        "    # Loop over each cluster k\n",
        "    for k in range(clusters):\n",
        "\n",
        "      price_sum = 0\n",
        "      rating_sum = 0\n",
        "\n",
        "      count = 0\n",
        "\n",
        "      # For each data point j in cluster k add its price and rating to running totals\n",
        "      for j in range(n):\n",
        "\n",
        "        if cluster_assignments[j] == k:\n",
        "          price_sum += normalized_prices[j]\n",
        "          rating_sum += normalized_ratings[j]\n",
        "\n",
        "          count += 1\n",
        "\n",
        "      # Divide the running totals by the number of data points in the cluster\n",
        "      if count != 0:\n",
        "        centroids[k][0] = price_sum / count\n",
        "        centroids[k][1] = rating_sum / count\n",
        "\n",
        "  return cluster_assignments\n"
      ],
      "metadata": {
        "id": "YMLyPGbLsV8V"
      },
      "execution_count": 23,
      "outputs": []
    },
    {
      "cell_type": "markdown",
      "source": [
        "#### Helper Function"
      ],
      "metadata": {
        "id": "z4xsVNvWfIPR"
      }
    },
    {
      "cell_type": "code",
      "source": [
        "# Just run this cell to help with generating a scatter plot showing each restaurant\n",
        "\n",
        "def plot_clusters(restaurants, show_neighborhoods = False):\n",
        "\n",
        "  colors = k_means(restaurants)\n",
        "\n",
        "  if show_neighborhoods:\n",
        "    colors = 'Neighborhood'\n",
        "\n",
        "  fig = px.scatter(restaurants, x = 'Price ($)', y = 'Rating (out of 5)', hover_name = 'Restaurant', hover_data = 'Neighborhood', color = colors, color_continuous_scale='portland')\n",
        "\n",
        "  fig.update_traces(marker = {'size': 10})\n",
        "  fig.update_layout(title = 'Chapel Hill Restaurants by Neighborhood')\n",
        "\n",
        "  if not show_neighborhoods:\n",
        "    fig.update_layout(showlegend = False)\n",
        "\n",
        "  fig.show()"
      ],
      "metadata": {
        "id": "WH3fUb81cTl6"
      },
      "execution_count": 24,
      "outputs": []
    },
    {
      "cell_type": "markdown",
      "source": [
        "#### Interactive Graphs"
      ],
      "metadata": {
        "id": "ns_Q1DwlfKsx"
      }
    },
    {
      "cell_type": "markdown",
      "source": [
        "Let's see how good k-Means Clustering is at grouping our restaurants by neighborhood.\n",
        "\n",
        "**Run this cell to visualize the three k-Means clusters**"
      ],
      "metadata": {
        "id": "B90vBTuyuRTn"
      }
    },
    {
      "cell_type": "code",
      "source": [
        "plot_clusters(ch_restaurants)"
      ],
      "metadata": {
        "colab": {
          "base_uri": "https://localhost:8080/",
          "height": 542
        },
        "id": "S91PqSerZSF2",
        "outputId": "569fb73f-54b0-43db-b8ec-d3caeda2e7bb"
      },
      "execution_count": 25,
      "outputs": [
        {
          "output_type": "display_data",
          "data": {
            "text/html": [
              "<html>\n",
              "<head><meta charset=\"utf-8\" /></head>\n",
              "<body>\n",
              "    <div>            <script src=\"https://cdnjs.cloudflare.com/ajax/libs/mathjax/2.7.5/MathJax.js?config=TeX-AMS-MML_SVG\"></script><script type=\"text/javascript\">if (window.MathJax && window.MathJax.Hub && window.MathJax.Hub.Config) {window.MathJax.Hub.Config({SVG: {font: \"STIX-Web\"}});}</script>                <script type=\"text/javascript\">window.PlotlyConfig = {MathJaxConfig: 'local'};</script>\n",
              "        <script charset=\"utf-8\" src=\"https://cdn.plot.ly/plotly-2.35.2.min.js\"></script>                <div id=\"eeaf1dca-bc68-47b5-b399-519da2d8f7f7\" class=\"plotly-graph-div\" style=\"height:525px; width:100%;\"></div>            <script type=\"text/javascript\">                                    window.PLOTLYENV=window.PLOTLYENV || {};                                    if (document.getElementById(\"eeaf1dca-bc68-47b5-b399-519da2d8f7f7\")) {                    Plotly.newPlot(                        \"eeaf1dca-bc68-47b5-b399-519da2d8f7f7\",                        [{\"customdata\":[[\"Carrboro\"],[\"Carrboro\"],[\"Carrboro\"],[\"Carrboro\"],[\"Carrboro\"],[\"Carrboro\"],[\"Carrboro\"],[\"Carrboro\"],[\"Carrboro\"],[\"Carrboro\"],[\"Carrboro\"],[\"Carrboro\"],[\"E Franklin\"],[\"E Franklin\"],[\"E Franklin\"],[\"E Franklin\"],[\"E Franklin\"],[\"E Franklin\"],[\"E Franklin\"],[\"E Franklin\"],[\"E Franklin\"],[\"E Franklin\"],[\"E Franklin\"],[\"E Franklin\"],[\"E Franklin\"],[\"E Franklin\"],[\"W Franklin\"],[\"W Franklin\"],[\"W Franklin\"],[\"W Franklin\"],[\"W Franklin\"],[\"W Franklin\"],[\"W Franklin\"],[\"W Franklin\"],[\"W Franklin\"],[\"W Franklin\"]],\"hovertemplate\":\"\\u003cb\\u003e%{hovertext}\\u003c\\u002fb\\u003e\\u003cbr\\u003e\\u003cbr\\u003ePrice ($)=%{x}\\u003cbr\\u003eRating (out of 5)=%{y}\\u003cbr\\u003eNeighborhood=%{customdata[0]}\\u003cbr\\u003ecolor=%{marker.color}\\u003cextra\\u003e\\u003c\\u002fextra\\u003e\",\"hovertext\":[\"401 Main\",\"Luna Rotisserie\",\"Breakaway Carrboro\",\"Acme Food & Beverage Co\",\"Spotted Dog Restaurant\",\"Thai Station Restaurant\",\"Tandem\",\"Armadillo Grill\",\"Venable Rotisserie Bistro\",\"Pizzeria Mercato\",\"Glasshalffull\",\"La Montaña\",\"Time-Out Restaurant\",\"Hibachi & Company\",\"Wheat\",\"Cosmic Cantina\",\"Top of the Hill\",\"TRU\",\"Bonchon Chapel Hill\",\"Grk Yeero\",\"Zayka Indian Grill\",\"Sup Dogs\",\"VooDoo Wing Company\",\"Pirate Captain\",\"Rougarou (Imbibe)\",\"Momo's Master\",\"Que Chula\",\"Might As Well\",\"Heavenly Buffaloes\",\"Italian Pizzeria III\",\"Kurama Sushi & Noodle Express\",\"Spicy 9 Sushi Bar & Asian Restaurant\",\"Pantana Bob's\",\"Chimney Indian Kitchen\",\"Blue's on Franklin\",\"Pho Happiness\"],\"legendgroup\":\"\",\"marker\":{\"color\":[2.0,2.0,2.0,2.0,2.0,2.0,1.0,0.0,1.0,1.0,1.0,1.0,0.0,0.0,2.0,2.0,2.0,2.0,0.0,2.0,1.0,2.0,2.0,2.0,2.0,2.0,0.0,0.0,2.0,2.0,2.0,0.0,0.0,2.0,0.0,0.0],\"coloraxis\":\"coloraxis\",\"symbol\":\"circle\",\"size\":10},\"mode\":\"markers\",\"name\":\"\",\"orientation\":\"v\",\"showlegend\":false,\"x\":[25,20,23,28,21,17,50,18,30,27,43,37,13,18,20,17,25,20,18,11,28,10,13,12,16,14,16,14,12,15,15,17,19,22,20,15],\"xaxis\":\"x\",\"y\":[4.5,4.5,4.5,4.4,4.4,4.4,4.4,4.0,4.5,4.7,4.6,4.7,4.1,4.3,4.7,4.4,4.4,4.4,4.3,4.4,4.8,4.4,4.5,4.5,4.7,4.6,4.3,4.0,4.4,4.5,4.4,4.2,4.2,4.4,4.0,4.2],\"yaxis\":\"y\",\"type\":\"scatter\"}],                        {\"template\":{\"data\":{\"histogram2dcontour\":[{\"type\":\"histogram2dcontour\",\"colorbar\":{\"outlinewidth\":0,\"ticks\":\"\"},\"colorscale\":[[0.0,\"#0d0887\"],[0.1111111111111111,\"#46039f\"],[0.2222222222222222,\"#7201a8\"],[0.3333333333333333,\"#9c179e\"],[0.4444444444444444,\"#bd3786\"],[0.5555555555555556,\"#d8576b\"],[0.6666666666666666,\"#ed7953\"],[0.7777777777777778,\"#fb9f3a\"],[0.8888888888888888,\"#fdca26\"],[1.0,\"#f0f921\"]]}],\"choropleth\":[{\"type\":\"choropleth\",\"colorbar\":{\"outlinewidth\":0,\"ticks\":\"\"}}],\"histogram2d\":[{\"type\":\"histogram2d\",\"colorbar\":{\"outlinewidth\":0,\"ticks\":\"\"},\"colorscale\":[[0.0,\"#0d0887\"],[0.1111111111111111,\"#46039f\"],[0.2222222222222222,\"#7201a8\"],[0.3333333333333333,\"#9c179e\"],[0.4444444444444444,\"#bd3786\"],[0.5555555555555556,\"#d8576b\"],[0.6666666666666666,\"#ed7953\"],[0.7777777777777778,\"#fb9f3a\"],[0.8888888888888888,\"#fdca26\"],[1.0,\"#f0f921\"]]}],\"heatmap\":[{\"type\":\"heatmap\",\"colorbar\":{\"outlinewidth\":0,\"ticks\":\"\"},\"colorscale\":[[0.0,\"#0d0887\"],[0.1111111111111111,\"#46039f\"],[0.2222222222222222,\"#7201a8\"],[0.3333333333333333,\"#9c179e\"],[0.4444444444444444,\"#bd3786\"],[0.5555555555555556,\"#d8576b\"],[0.6666666666666666,\"#ed7953\"],[0.7777777777777778,\"#fb9f3a\"],[0.8888888888888888,\"#fdca26\"],[1.0,\"#f0f921\"]]}],\"heatmapgl\":[{\"type\":\"heatmapgl\",\"colorbar\":{\"outlinewidth\":0,\"ticks\":\"\"},\"colorscale\":[[0.0,\"#0d0887\"],[0.1111111111111111,\"#46039f\"],[0.2222222222222222,\"#7201a8\"],[0.3333333333333333,\"#9c179e\"],[0.4444444444444444,\"#bd3786\"],[0.5555555555555556,\"#d8576b\"],[0.6666666666666666,\"#ed7953\"],[0.7777777777777778,\"#fb9f3a\"],[0.8888888888888888,\"#fdca26\"],[1.0,\"#f0f921\"]]}],\"contourcarpet\":[{\"type\":\"contourcarpet\",\"colorbar\":{\"outlinewidth\":0,\"ticks\":\"\"}}],\"contour\":[{\"type\":\"contour\",\"colorbar\":{\"outlinewidth\":0,\"ticks\":\"\"},\"colorscale\":[[0.0,\"#0d0887\"],[0.1111111111111111,\"#46039f\"],[0.2222222222222222,\"#7201a8\"],[0.3333333333333333,\"#9c179e\"],[0.4444444444444444,\"#bd3786\"],[0.5555555555555556,\"#d8576b\"],[0.6666666666666666,\"#ed7953\"],[0.7777777777777778,\"#fb9f3a\"],[0.8888888888888888,\"#fdca26\"],[1.0,\"#f0f921\"]]}],\"surface\":[{\"type\":\"surface\",\"colorbar\":{\"outlinewidth\":0,\"ticks\":\"\"},\"colorscale\":[[0.0,\"#0d0887\"],[0.1111111111111111,\"#46039f\"],[0.2222222222222222,\"#7201a8\"],[0.3333333333333333,\"#9c179e\"],[0.4444444444444444,\"#bd3786\"],[0.5555555555555556,\"#d8576b\"],[0.6666666666666666,\"#ed7953\"],[0.7777777777777778,\"#fb9f3a\"],[0.8888888888888888,\"#fdca26\"],[1.0,\"#f0f921\"]]}],\"mesh3d\":[{\"type\":\"mesh3d\",\"colorbar\":{\"outlinewidth\":0,\"ticks\":\"\"}}],\"scatter\":[{\"fillpattern\":{\"fillmode\":\"overlay\",\"size\":10,\"solidity\":0.2},\"type\":\"scatter\"}],\"parcoords\":[{\"type\":\"parcoords\",\"line\":{\"colorbar\":{\"outlinewidth\":0,\"ticks\":\"\"}}}],\"scatterpolargl\":[{\"type\":\"scatterpolargl\",\"marker\":{\"colorbar\":{\"outlinewidth\":0,\"ticks\":\"\"}}}],\"bar\":[{\"error_x\":{\"color\":\"#2a3f5f\"},\"error_y\":{\"color\":\"#2a3f5f\"},\"marker\":{\"line\":{\"color\":\"#E5ECF6\",\"width\":0.5},\"pattern\":{\"fillmode\":\"overlay\",\"size\":10,\"solidity\":0.2}},\"type\":\"bar\"}],\"scattergeo\":[{\"type\":\"scattergeo\",\"marker\":{\"colorbar\":{\"outlinewidth\":0,\"ticks\":\"\"}}}],\"scatterpolar\":[{\"type\":\"scatterpolar\",\"marker\":{\"colorbar\":{\"outlinewidth\":0,\"ticks\":\"\"}}}],\"histogram\":[{\"marker\":{\"pattern\":{\"fillmode\":\"overlay\",\"size\":10,\"solidity\":0.2}},\"type\":\"histogram\"}],\"scattergl\":[{\"type\":\"scattergl\",\"marker\":{\"colorbar\":{\"outlinewidth\":0,\"ticks\":\"\"}}}],\"scatter3d\":[{\"type\":\"scatter3d\",\"line\":{\"colorbar\":{\"outlinewidth\":0,\"ticks\":\"\"}},\"marker\":{\"colorbar\":{\"outlinewidth\":0,\"ticks\":\"\"}}}],\"scattermapbox\":[{\"type\":\"scattermapbox\",\"marker\":{\"colorbar\":{\"outlinewidth\":0,\"ticks\":\"\"}}}],\"scatterternary\":[{\"type\":\"scatterternary\",\"marker\":{\"colorbar\":{\"outlinewidth\":0,\"ticks\":\"\"}}}],\"scattercarpet\":[{\"type\":\"scattercarpet\",\"marker\":{\"colorbar\":{\"outlinewidth\":0,\"ticks\":\"\"}}}],\"carpet\":[{\"aaxis\":{\"endlinecolor\":\"#2a3f5f\",\"gridcolor\":\"white\",\"linecolor\":\"white\",\"minorgridcolor\":\"white\",\"startlinecolor\":\"#2a3f5f\"},\"baxis\":{\"endlinecolor\":\"#2a3f5f\",\"gridcolor\":\"white\",\"linecolor\":\"white\",\"minorgridcolor\":\"white\",\"startlinecolor\":\"#2a3f5f\"},\"type\":\"carpet\"}],\"table\":[{\"cells\":{\"fill\":{\"color\":\"#EBF0F8\"},\"line\":{\"color\":\"white\"}},\"header\":{\"fill\":{\"color\":\"#C8D4E3\"},\"line\":{\"color\":\"white\"}},\"type\":\"table\"}],\"barpolar\":[{\"marker\":{\"line\":{\"color\":\"#E5ECF6\",\"width\":0.5},\"pattern\":{\"fillmode\":\"overlay\",\"size\":10,\"solidity\":0.2}},\"type\":\"barpolar\"}],\"pie\":[{\"automargin\":true,\"type\":\"pie\"}]},\"layout\":{\"autotypenumbers\":\"strict\",\"colorway\":[\"#636efa\",\"#EF553B\",\"#00cc96\",\"#ab63fa\",\"#FFA15A\",\"#19d3f3\",\"#FF6692\",\"#B6E880\",\"#FF97FF\",\"#FECB52\"],\"font\":{\"color\":\"#2a3f5f\"},\"hovermode\":\"closest\",\"hoverlabel\":{\"align\":\"left\"},\"paper_bgcolor\":\"white\",\"plot_bgcolor\":\"#E5ECF6\",\"polar\":{\"bgcolor\":\"#E5ECF6\",\"angularaxis\":{\"gridcolor\":\"white\",\"linecolor\":\"white\",\"ticks\":\"\"},\"radialaxis\":{\"gridcolor\":\"white\",\"linecolor\":\"white\",\"ticks\":\"\"}},\"ternary\":{\"bgcolor\":\"#E5ECF6\",\"aaxis\":{\"gridcolor\":\"white\",\"linecolor\":\"white\",\"ticks\":\"\"},\"baxis\":{\"gridcolor\":\"white\",\"linecolor\":\"white\",\"ticks\":\"\"},\"caxis\":{\"gridcolor\":\"white\",\"linecolor\":\"white\",\"ticks\":\"\"}},\"coloraxis\":{\"colorbar\":{\"outlinewidth\":0,\"ticks\":\"\"}},\"colorscale\":{\"sequential\":[[0.0,\"#0d0887\"],[0.1111111111111111,\"#46039f\"],[0.2222222222222222,\"#7201a8\"],[0.3333333333333333,\"#9c179e\"],[0.4444444444444444,\"#bd3786\"],[0.5555555555555556,\"#d8576b\"],[0.6666666666666666,\"#ed7953\"],[0.7777777777777778,\"#fb9f3a\"],[0.8888888888888888,\"#fdca26\"],[1.0,\"#f0f921\"]],\"sequentialminus\":[[0.0,\"#0d0887\"],[0.1111111111111111,\"#46039f\"],[0.2222222222222222,\"#7201a8\"],[0.3333333333333333,\"#9c179e\"],[0.4444444444444444,\"#bd3786\"],[0.5555555555555556,\"#d8576b\"],[0.6666666666666666,\"#ed7953\"],[0.7777777777777778,\"#fb9f3a\"],[0.8888888888888888,\"#fdca26\"],[1.0,\"#f0f921\"]],\"diverging\":[[0,\"#8e0152\"],[0.1,\"#c51b7d\"],[0.2,\"#de77ae\"],[0.3,\"#f1b6da\"],[0.4,\"#fde0ef\"],[0.5,\"#f7f7f7\"],[0.6,\"#e6f5d0\"],[0.7,\"#b8e186\"],[0.8,\"#7fbc41\"],[0.9,\"#4d9221\"],[1,\"#276419\"]]},\"xaxis\":{\"gridcolor\":\"white\",\"linecolor\":\"white\",\"ticks\":\"\",\"title\":{\"standoff\":15},\"zerolinecolor\":\"white\",\"automargin\":true,\"zerolinewidth\":2},\"yaxis\":{\"gridcolor\":\"white\",\"linecolor\":\"white\",\"ticks\":\"\",\"title\":{\"standoff\":15},\"zerolinecolor\":\"white\",\"automargin\":true,\"zerolinewidth\":2},\"scene\":{\"xaxis\":{\"backgroundcolor\":\"#E5ECF6\",\"gridcolor\":\"white\",\"linecolor\":\"white\",\"showbackground\":true,\"ticks\":\"\",\"zerolinecolor\":\"white\",\"gridwidth\":2},\"yaxis\":{\"backgroundcolor\":\"#E5ECF6\",\"gridcolor\":\"white\",\"linecolor\":\"white\",\"showbackground\":true,\"ticks\":\"\",\"zerolinecolor\":\"white\",\"gridwidth\":2},\"zaxis\":{\"backgroundcolor\":\"#E5ECF6\",\"gridcolor\":\"white\",\"linecolor\":\"white\",\"showbackground\":true,\"ticks\":\"\",\"zerolinecolor\":\"white\",\"gridwidth\":2}},\"shapedefaults\":{\"line\":{\"color\":\"#2a3f5f\"}},\"annotationdefaults\":{\"arrowcolor\":\"#2a3f5f\",\"arrowhead\":0,\"arrowwidth\":1},\"geo\":{\"bgcolor\":\"white\",\"landcolor\":\"#E5ECF6\",\"subunitcolor\":\"white\",\"showland\":true,\"showlakes\":true,\"lakecolor\":\"white\"},\"title\":{\"x\":0.05},\"mapbox\":{\"style\":\"light\"}}},\"xaxis\":{\"anchor\":\"y\",\"domain\":[0.0,1.0],\"title\":{\"text\":\"Price ($)\"}},\"yaxis\":{\"anchor\":\"x\",\"domain\":[0.0,1.0],\"title\":{\"text\":\"Rating (out of 5)\"}},\"coloraxis\":{\"colorbar\":{\"title\":{\"text\":\"color\"}},\"colorscale\":[[0.0,\"rgb(12,51,131)\"],[0.25,\"rgb(10,136,186)\"],[0.5,\"rgb(242,211,56)\"],[0.75,\"rgb(242,143,56)\"],[1.0,\"rgb(217,30,30)\"]]},\"legend\":{\"tracegroupgap\":0},\"margin\":{\"t\":60},\"title\":{\"text\":\"Chapel Hill Restaurants by Neighborhood\"},\"showlegend\":false},                        {\"responsive\": true}                    ).then(function(){\n",
              "                            \n",
              "var gd = document.getElementById('eeaf1dca-bc68-47b5-b399-519da2d8f7f7');\n",
              "var x = new MutationObserver(function (mutations, observer) {{\n",
              "        var display = window.getComputedStyle(gd).display;\n",
              "        if (!display || display === 'none') {{\n",
              "            console.log([gd, 'removed!']);\n",
              "            Plotly.purge(gd);\n",
              "            observer.disconnect();\n",
              "        }}\n",
              "}});\n",
              "\n",
              "// Listen for the removal of the full notebook cells\n",
              "var notebookContainer = gd.closest('#notebook-container');\n",
              "if (notebookContainer) {{\n",
              "    x.observe(notebookContainer, {childList: true});\n",
              "}}\n",
              "\n",
              "// Listen for the clearing of the current output cell\n",
              "var outputEl = gd.closest('.output');\n",
              "if (outputEl) {{\n",
              "    x.observe(outputEl, {childList: true});\n",
              "}}\n",
              "\n",
              "                        })                };                            </script>        </div>\n",
              "</body>\n",
              "</html>"
            ]
          },
          "metadata": {}
        }
      ]
    },
    {
      "cell_type": "markdown",
      "source": [
        "Now compare the k-Means clusters to the actual restaurant neighborhoods.\n",
        "\n",
        "* How well did the algorithm do?\n",
        "\n",
        "* Is there a limit to how good an algorithm _can_ be with this data?"
      ],
      "metadata": {
        "id": "5vmsc5sCudtv"
      }
    },
    {
      "cell_type": "code",
      "source": [
        "plot_clusters(ch_restaurants, show_neighborhoods = True)"
      ],
      "metadata": {
        "colab": {
          "base_uri": "https://localhost:8080/",
          "height": 542
        },
        "id": "aBEGd31NuM-I",
        "outputId": "cc2bca91-6284-430a-a965-a910aa22d8ae"
      },
      "execution_count": 26,
      "outputs": [
        {
          "output_type": "display_data",
          "data": {
            "text/html": [
              "<html>\n",
              "<head><meta charset=\"utf-8\" /></head>\n",
              "<body>\n",
              "    <div>            <script src=\"https://cdnjs.cloudflare.com/ajax/libs/mathjax/2.7.5/MathJax.js?config=TeX-AMS-MML_SVG\"></script><script type=\"text/javascript\">if (window.MathJax && window.MathJax.Hub && window.MathJax.Hub.Config) {window.MathJax.Hub.Config({SVG: {font: \"STIX-Web\"}});}</script>                <script type=\"text/javascript\">window.PlotlyConfig = {MathJaxConfig: 'local'};</script>\n",
              "        <script charset=\"utf-8\" src=\"https://cdn.plot.ly/plotly-2.35.2.min.js\"></script>                <div id=\"bb72a7d0-d83b-4bc1-9753-37ea370b9d8b\" class=\"plotly-graph-div\" style=\"height:525px; width:100%;\"></div>            <script type=\"text/javascript\">                                    window.PLOTLYENV=window.PLOTLYENV || {};                                    if (document.getElementById(\"bb72a7d0-d83b-4bc1-9753-37ea370b9d8b\")) {                    Plotly.newPlot(                        \"bb72a7d0-d83b-4bc1-9753-37ea370b9d8b\",                        [{\"customdata\":[[\"Carrboro\"],[\"Carrboro\"],[\"Carrboro\"],[\"Carrboro\"],[\"Carrboro\"],[\"Carrboro\"],[\"Carrboro\"],[\"Carrboro\"],[\"Carrboro\"],[\"Carrboro\"],[\"Carrboro\"],[\"Carrboro\"]],\"hovertemplate\":\"\\u003cb\\u003e%{hovertext}\\u003c\\u002fb\\u003e\\u003cbr\\u003e\\u003cbr\\u003eNeighborhood=%{customdata[0]}\\u003cbr\\u003ePrice ($)=%{x}\\u003cbr\\u003eRating (out of 5)=%{y}\\u003cextra\\u003e\\u003c\\u002fextra\\u003e\",\"hovertext\":[\"401 Main\",\"Luna Rotisserie\",\"Breakaway Carrboro\",\"Acme Food & Beverage Co\",\"Spotted Dog Restaurant\",\"Thai Station Restaurant\",\"Tandem\",\"Armadillo Grill\",\"Venable Rotisserie Bistro\",\"Pizzeria Mercato\",\"Glasshalffull\",\"La Montaña\"],\"legendgroup\":\"Carrboro\",\"marker\":{\"color\":\"#636efa\",\"symbol\":\"circle\",\"size\":10},\"mode\":\"markers\",\"name\":\"Carrboro\",\"orientation\":\"v\",\"showlegend\":true,\"x\":[25,20,23,28,21,17,50,18,30,27,43,37],\"xaxis\":\"x\",\"y\":[4.5,4.5,4.5,4.4,4.4,4.4,4.4,4.0,4.5,4.7,4.6,4.7],\"yaxis\":\"y\",\"type\":\"scatter\"},{\"customdata\":[[\"E Franklin\"],[\"E Franklin\"],[\"E Franklin\"],[\"E Franklin\"],[\"E Franklin\"],[\"E Franklin\"],[\"E Franklin\"],[\"E Franklin\"],[\"E Franklin\"],[\"E Franklin\"],[\"E Franklin\"],[\"E Franklin\"],[\"E Franklin\"],[\"E Franklin\"]],\"hovertemplate\":\"\\u003cb\\u003e%{hovertext}\\u003c\\u002fb\\u003e\\u003cbr\\u003e\\u003cbr\\u003eNeighborhood=%{customdata[0]}\\u003cbr\\u003ePrice ($)=%{x}\\u003cbr\\u003eRating (out of 5)=%{y}\\u003cextra\\u003e\\u003c\\u002fextra\\u003e\",\"hovertext\":[\"Time-Out Restaurant\",\"Hibachi & Company\",\"Wheat\",\"Cosmic Cantina\",\"Top of the Hill\",\"TRU\",\"Bonchon Chapel Hill\",\"Grk Yeero\",\"Zayka Indian Grill\",\"Sup Dogs\",\"VooDoo Wing Company\",\"Pirate Captain\",\"Rougarou (Imbibe)\",\"Momo's Master\"],\"legendgroup\":\"E Franklin\",\"marker\":{\"color\":\"#EF553B\",\"symbol\":\"circle\",\"size\":10},\"mode\":\"markers\",\"name\":\"E Franklin\",\"orientation\":\"v\",\"showlegend\":true,\"x\":[13,18,20,17,25,20,18,11,28,10,13,12,16,14],\"xaxis\":\"x\",\"y\":[4.1,4.3,4.7,4.4,4.4,4.4,4.3,4.4,4.8,4.4,4.5,4.5,4.7,4.6],\"yaxis\":\"y\",\"type\":\"scatter\"},{\"customdata\":[[\"W Franklin\"],[\"W Franklin\"],[\"W Franklin\"],[\"W Franklin\"],[\"W Franklin\"],[\"W Franklin\"],[\"W Franklin\"],[\"W Franklin\"],[\"W Franklin\"],[\"W Franklin\"]],\"hovertemplate\":\"\\u003cb\\u003e%{hovertext}\\u003c\\u002fb\\u003e\\u003cbr\\u003e\\u003cbr\\u003eNeighborhood=%{customdata[0]}\\u003cbr\\u003ePrice ($)=%{x}\\u003cbr\\u003eRating (out of 5)=%{y}\\u003cextra\\u003e\\u003c\\u002fextra\\u003e\",\"hovertext\":[\"Que Chula\",\"Might As Well\",\"Heavenly Buffaloes\",\"Italian Pizzeria III\",\"Kurama Sushi & Noodle Express\",\"Spicy 9 Sushi Bar & Asian Restaurant\",\"Pantana Bob's\",\"Chimney Indian Kitchen\",\"Blue's on Franklin\",\"Pho Happiness\"],\"legendgroup\":\"W Franklin\",\"marker\":{\"color\":\"#00cc96\",\"symbol\":\"circle\",\"size\":10},\"mode\":\"markers\",\"name\":\"W Franklin\",\"orientation\":\"v\",\"showlegend\":true,\"x\":[16,14,12,15,15,17,19,22,20,15],\"xaxis\":\"x\",\"y\":[4.3,4.0,4.4,4.5,4.4,4.2,4.2,4.4,4.0,4.2],\"yaxis\":\"y\",\"type\":\"scatter\"}],                        {\"template\":{\"data\":{\"histogram2dcontour\":[{\"type\":\"histogram2dcontour\",\"colorbar\":{\"outlinewidth\":0,\"ticks\":\"\"},\"colorscale\":[[0.0,\"#0d0887\"],[0.1111111111111111,\"#46039f\"],[0.2222222222222222,\"#7201a8\"],[0.3333333333333333,\"#9c179e\"],[0.4444444444444444,\"#bd3786\"],[0.5555555555555556,\"#d8576b\"],[0.6666666666666666,\"#ed7953\"],[0.7777777777777778,\"#fb9f3a\"],[0.8888888888888888,\"#fdca26\"],[1.0,\"#f0f921\"]]}],\"choropleth\":[{\"type\":\"choropleth\",\"colorbar\":{\"outlinewidth\":0,\"ticks\":\"\"}}],\"histogram2d\":[{\"type\":\"histogram2d\",\"colorbar\":{\"outlinewidth\":0,\"ticks\":\"\"},\"colorscale\":[[0.0,\"#0d0887\"],[0.1111111111111111,\"#46039f\"],[0.2222222222222222,\"#7201a8\"],[0.3333333333333333,\"#9c179e\"],[0.4444444444444444,\"#bd3786\"],[0.5555555555555556,\"#d8576b\"],[0.6666666666666666,\"#ed7953\"],[0.7777777777777778,\"#fb9f3a\"],[0.8888888888888888,\"#fdca26\"],[1.0,\"#f0f921\"]]}],\"heatmap\":[{\"type\":\"heatmap\",\"colorbar\":{\"outlinewidth\":0,\"ticks\":\"\"},\"colorscale\":[[0.0,\"#0d0887\"],[0.1111111111111111,\"#46039f\"],[0.2222222222222222,\"#7201a8\"],[0.3333333333333333,\"#9c179e\"],[0.4444444444444444,\"#bd3786\"],[0.5555555555555556,\"#d8576b\"],[0.6666666666666666,\"#ed7953\"],[0.7777777777777778,\"#fb9f3a\"],[0.8888888888888888,\"#fdca26\"],[1.0,\"#f0f921\"]]}],\"heatmapgl\":[{\"type\":\"heatmapgl\",\"colorbar\":{\"outlinewidth\":0,\"ticks\":\"\"},\"colorscale\":[[0.0,\"#0d0887\"],[0.1111111111111111,\"#46039f\"],[0.2222222222222222,\"#7201a8\"],[0.3333333333333333,\"#9c179e\"],[0.4444444444444444,\"#bd3786\"],[0.5555555555555556,\"#d8576b\"],[0.6666666666666666,\"#ed7953\"],[0.7777777777777778,\"#fb9f3a\"],[0.8888888888888888,\"#fdca26\"],[1.0,\"#f0f921\"]]}],\"contourcarpet\":[{\"type\":\"contourcarpet\",\"colorbar\":{\"outlinewidth\":0,\"ticks\":\"\"}}],\"contour\":[{\"type\":\"contour\",\"colorbar\":{\"outlinewidth\":0,\"ticks\":\"\"},\"colorscale\":[[0.0,\"#0d0887\"],[0.1111111111111111,\"#46039f\"],[0.2222222222222222,\"#7201a8\"],[0.3333333333333333,\"#9c179e\"],[0.4444444444444444,\"#bd3786\"],[0.5555555555555556,\"#d8576b\"],[0.6666666666666666,\"#ed7953\"],[0.7777777777777778,\"#fb9f3a\"],[0.8888888888888888,\"#fdca26\"],[1.0,\"#f0f921\"]]}],\"surface\":[{\"type\":\"surface\",\"colorbar\":{\"outlinewidth\":0,\"ticks\":\"\"},\"colorscale\":[[0.0,\"#0d0887\"],[0.1111111111111111,\"#46039f\"],[0.2222222222222222,\"#7201a8\"],[0.3333333333333333,\"#9c179e\"],[0.4444444444444444,\"#bd3786\"],[0.5555555555555556,\"#d8576b\"],[0.6666666666666666,\"#ed7953\"],[0.7777777777777778,\"#fb9f3a\"],[0.8888888888888888,\"#fdca26\"],[1.0,\"#f0f921\"]]}],\"mesh3d\":[{\"type\":\"mesh3d\",\"colorbar\":{\"outlinewidth\":0,\"ticks\":\"\"}}],\"scatter\":[{\"fillpattern\":{\"fillmode\":\"overlay\",\"size\":10,\"solidity\":0.2},\"type\":\"scatter\"}],\"parcoords\":[{\"type\":\"parcoords\",\"line\":{\"colorbar\":{\"outlinewidth\":0,\"ticks\":\"\"}}}],\"scatterpolargl\":[{\"type\":\"scatterpolargl\",\"marker\":{\"colorbar\":{\"outlinewidth\":0,\"ticks\":\"\"}}}],\"bar\":[{\"error_x\":{\"color\":\"#2a3f5f\"},\"error_y\":{\"color\":\"#2a3f5f\"},\"marker\":{\"line\":{\"color\":\"#E5ECF6\",\"width\":0.5},\"pattern\":{\"fillmode\":\"overlay\",\"size\":10,\"solidity\":0.2}},\"type\":\"bar\"}],\"scattergeo\":[{\"type\":\"scattergeo\",\"marker\":{\"colorbar\":{\"outlinewidth\":0,\"ticks\":\"\"}}}],\"scatterpolar\":[{\"type\":\"scatterpolar\",\"marker\":{\"colorbar\":{\"outlinewidth\":0,\"ticks\":\"\"}}}],\"histogram\":[{\"marker\":{\"pattern\":{\"fillmode\":\"overlay\",\"size\":10,\"solidity\":0.2}},\"type\":\"histogram\"}],\"scattergl\":[{\"type\":\"scattergl\",\"marker\":{\"colorbar\":{\"outlinewidth\":0,\"ticks\":\"\"}}}],\"scatter3d\":[{\"type\":\"scatter3d\",\"line\":{\"colorbar\":{\"outlinewidth\":0,\"ticks\":\"\"}},\"marker\":{\"colorbar\":{\"outlinewidth\":0,\"ticks\":\"\"}}}],\"scattermapbox\":[{\"type\":\"scattermapbox\",\"marker\":{\"colorbar\":{\"outlinewidth\":0,\"ticks\":\"\"}}}],\"scatterternary\":[{\"type\":\"scatterternary\",\"marker\":{\"colorbar\":{\"outlinewidth\":0,\"ticks\":\"\"}}}],\"scattercarpet\":[{\"type\":\"scattercarpet\",\"marker\":{\"colorbar\":{\"outlinewidth\":0,\"ticks\":\"\"}}}],\"carpet\":[{\"aaxis\":{\"endlinecolor\":\"#2a3f5f\",\"gridcolor\":\"white\",\"linecolor\":\"white\",\"minorgridcolor\":\"white\",\"startlinecolor\":\"#2a3f5f\"},\"baxis\":{\"endlinecolor\":\"#2a3f5f\",\"gridcolor\":\"white\",\"linecolor\":\"white\",\"minorgridcolor\":\"white\",\"startlinecolor\":\"#2a3f5f\"},\"type\":\"carpet\"}],\"table\":[{\"cells\":{\"fill\":{\"color\":\"#EBF0F8\"},\"line\":{\"color\":\"white\"}},\"header\":{\"fill\":{\"color\":\"#C8D4E3\"},\"line\":{\"color\":\"white\"}},\"type\":\"table\"}],\"barpolar\":[{\"marker\":{\"line\":{\"color\":\"#E5ECF6\",\"width\":0.5},\"pattern\":{\"fillmode\":\"overlay\",\"size\":10,\"solidity\":0.2}},\"type\":\"barpolar\"}],\"pie\":[{\"automargin\":true,\"type\":\"pie\"}]},\"layout\":{\"autotypenumbers\":\"strict\",\"colorway\":[\"#636efa\",\"#EF553B\",\"#00cc96\",\"#ab63fa\",\"#FFA15A\",\"#19d3f3\",\"#FF6692\",\"#B6E880\",\"#FF97FF\",\"#FECB52\"],\"font\":{\"color\":\"#2a3f5f\"},\"hovermode\":\"closest\",\"hoverlabel\":{\"align\":\"left\"},\"paper_bgcolor\":\"white\",\"plot_bgcolor\":\"#E5ECF6\",\"polar\":{\"bgcolor\":\"#E5ECF6\",\"angularaxis\":{\"gridcolor\":\"white\",\"linecolor\":\"white\",\"ticks\":\"\"},\"radialaxis\":{\"gridcolor\":\"white\",\"linecolor\":\"white\",\"ticks\":\"\"}},\"ternary\":{\"bgcolor\":\"#E5ECF6\",\"aaxis\":{\"gridcolor\":\"white\",\"linecolor\":\"white\",\"ticks\":\"\"},\"baxis\":{\"gridcolor\":\"white\",\"linecolor\":\"white\",\"ticks\":\"\"},\"caxis\":{\"gridcolor\":\"white\",\"linecolor\":\"white\",\"ticks\":\"\"}},\"coloraxis\":{\"colorbar\":{\"outlinewidth\":0,\"ticks\":\"\"}},\"colorscale\":{\"sequential\":[[0.0,\"#0d0887\"],[0.1111111111111111,\"#46039f\"],[0.2222222222222222,\"#7201a8\"],[0.3333333333333333,\"#9c179e\"],[0.4444444444444444,\"#bd3786\"],[0.5555555555555556,\"#d8576b\"],[0.6666666666666666,\"#ed7953\"],[0.7777777777777778,\"#fb9f3a\"],[0.8888888888888888,\"#fdca26\"],[1.0,\"#f0f921\"]],\"sequentialminus\":[[0.0,\"#0d0887\"],[0.1111111111111111,\"#46039f\"],[0.2222222222222222,\"#7201a8\"],[0.3333333333333333,\"#9c179e\"],[0.4444444444444444,\"#bd3786\"],[0.5555555555555556,\"#d8576b\"],[0.6666666666666666,\"#ed7953\"],[0.7777777777777778,\"#fb9f3a\"],[0.8888888888888888,\"#fdca26\"],[1.0,\"#f0f921\"]],\"diverging\":[[0,\"#8e0152\"],[0.1,\"#c51b7d\"],[0.2,\"#de77ae\"],[0.3,\"#f1b6da\"],[0.4,\"#fde0ef\"],[0.5,\"#f7f7f7\"],[0.6,\"#e6f5d0\"],[0.7,\"#b8e186\"],[0.8,\"#7fbc41\"],[0.9,\"#4d9221\"],[1,\"#276419\"]]},\"xaxis\":{\"gridcolor\":\"white\",\"linecolor\":\"white\",\"ticks\":\"\",\"title\":{\"standoff\":15},\"zerolinecolor\":\"white\",\"automargin\":true,\"zerolinewidth\":2},\"yaxis\":{\"gridcolor\":\"white\",\"linecolor\":\"white\",\"ticks\":\"\",\"title\":{\"standoff\":15},\"zerolinecolor\":\"white\",\"automargin\":true,\"zerolinewidth\":2},\"scene\":{\"xaxis\":{\"backgroundcolor\":\"#E5ECF6\",\"gridcolor\":\"white\",\"linecolor\":\"white\",\"showbackground\":true,\"ticks\":\"\",\"zerolinecolor\":\"white\",\"gridwidth\":2},\"yaxis\":{\"backgroundcolor\":\"#E5ECF6\",\"gridcolor\":\"white\",\"linecolor\":\"white\",\"showbackground\":true,\"ticks\":\"\",\"zerolinecolor\":\"white\",\"gridwidth\":2},\"zaxis\":{\"backgroundcolor\":\"#E5ECF6\",\"gridcolor\":\"white\",\"linecolor\":\"white\",\"showbackground\":true,\"ticks\":\"\",\"zerolinecolor\":\"white\",\"gridwidth\":2}},\"shapedefaults\":{\"line\":{\"color\":\"#2a3f5f\"}},\"annotationdefaults\":{\"arrowcolor\":\"#2a3f5f\",\"arrowhead\":0,\"arrowwidth\":1},\"geo\":{\"bgcolor\":\"white\",\"landcolor\":\"#E5ECF6\",\"subunitcolor\":\"white\",\"showland\":true,\"showlakes\":true,\"lakecolor\":\"white\"},\"title\":{\"x\":0.05},\"mapbox\":{\"style\":\"light\"}}},\"xaxis\":{\"anchor\":\"y\",\"domain\":[0.0,1.0],\"title\":{\"text\":\"Price ($)\"}},\"yaxis\":{\"anchor\":\"x\",\"domain\":[0.0,1.0],\"title\":{\"text\":\"Rating (out of 5)\"}},\"legend\":{\"title\":{\"text\":\"Neighborhood\"},\"tracegroupgap\":0},\"margin\":{\"t\":60},\"title\":{\"text\":\"Chapel Hill Restaurants by Neighborhood\"}},                        {\"responsive\": true}                    ).then(function(){\n",
              "                            \n",
              "var gd = document.getElementById('bb72a7d0-d83b-4bc1-9753-37ea370b9d8b');\n",
              "var x = new MutationObserver(function (mutations, observer) {{\n",
              "        var display = window.getComputedStyle(gd).display;\n",
              "        if (!display || display === 'none') {{\n",
              "            console.log([gd, 'removed!']);\n",
              "            Plotly.purge(gd);\n",
              "            observer.disconnect();\n",
              "        }}\n",
              "}});\n",
              "\n",
              "// Listen for the removal of the full notebook cells\n",
              "var notebookContainer = gd.closest('#notebook-container');\n",
              "if (notebookContainer) {{\n",
              "    x.observe(notebookContainer, {childList: true});\n",
              "}}\n",
              "\n",
              "// Listen for the clearing of the current output cell\n",
              "var outputEl = gd.closest('.output');\n",
              "if (outputEl) {{\n",
              "    x.observe(outputEl, {childList: true});\n",
              "}}\n",
              "\n",
              "                        })                };                            </script>        </div>\n",
              "</body>\n",
              "</html>"
            ]
          },
          "metadata": {}
        }
      ]
    },
    {
      "cell_type": "markdown",
      "source": [
        "Our algorithm is doing an _ok_ job of distinguishing between the generally less expensive restaurants on E/W Franklin St. and the more expensive restaurants in Carrboro. But it's more difficult to separate restaurants on East and West Franklin St..."
      ],
      "metadata": {
        "id": "-ycejn4UCfjO"
      }
    },
    {
      "cell_type": "markdown",
      "source": [
        "## **4. The End**"
      ],
      "metadata": {
        "id": "i-4JZxqZuwSN"
      }
    },
    {
      "cell_type": "markdown",
      "source": [
        "**That's all I have for my demo!**\n",
        "\n",
        "I hope you enjoyed coding along today. Maybe you found the application of a basic programming tool like for loops to build machine learning algorithms interesting and exciting. If so, I would encourage you to look into taking a machine learning/AI class offered at UNC, or to do some experimenting with AI on your own.\n",
        "\n",
        "\n",
        "**Feedback**\n",
        "\n",
        "This is only the second iteration of this lecture, so the content has room for improvement. I am always appreciative of constructive feedback — feel free to come talk to me or send me an email (jamesweichert@vt.edu) if you have any thoughts!\n",
        "\n",
        "#### Open for a Surprise"
      ],
      "metadata": {
        "id": "Rua6j1K3vCws"
      }
    },
    {
      "cell_type": "markdown",
      "source": [
        "Here is a photo of my dog, Lego.\n",
        "\n",
        "<img src=\"https://github.com/james-weichert/teaching/blob/main/teaching-demos/unc/lego.JPEG?raw=true\" width=\"400px\"/>"
      ],
      "metadata": {
        "id": "Ns7ebxUpxTjg"
      }
    }
  ]
}